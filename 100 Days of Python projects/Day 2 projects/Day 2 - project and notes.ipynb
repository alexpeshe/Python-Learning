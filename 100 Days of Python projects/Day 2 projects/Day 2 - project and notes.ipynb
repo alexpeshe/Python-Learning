{
 "cells": [
  {
   "cell_type": "markdown",
   "id": "b5857acf-46de-45fe-9e5e-312fb0d9fc97",
   "metadata": {},
   "source": [
    "# Day 2 - project and notes"
   ]
  },
  {
   "cell_type": "markdown",
   "id": "f1f832f3-93c3-4862-b694-011bf2d7e397",
   "metadata": {},
   "source": [
    "# BMI Calculator"
   ]
  },
  {
   "cell_type": "code",
   "execution_count": 3,
   "id": "550d3f19-881d-4389-9f33-51b7c0aa69de",
   "metadata": {},
   "outputs": [
    {
     "name": "stdin",
     "output_type": "stream",
     "text": [
      "enter your height in m:  1.98\n",
      "enter your weight in kg:  109\n"
     ]
    },
    {
     "name": "stdout",
     "output_type": "stream",
     "text": [
      "27\n"
     ]
    },
    {
     "data": {
      "text/plain": [
       "' Using the exponent operator **\\nbmi = weight_as_int / height_as_float ** 2\\n\\n or using multiplication and PEMDAS\\nbmi = weight_as_int / (height_as_float * height_as_float)\\n\\nbmi_as_int = int(BMI)\\n\\nprint(bmi_as_int)'"
      ]
     },
     "execution_count": 3,
     "metadata": {},
     "output_type": "execute_result"
    }
   ],
   "source": [
    "# 🚨 Don't change the code below 👇\n",
    "height = input(\"enter your height in m: \")\n",
    "weight = input(\"enter your weight in kg: \")\n",
    "# 🚨 Don't change the code above 👆\n",
    "\n",
    "#Write your code below this line 👇\n",
    "# this was my soloution\n",
    "\n",
    "a = float(height)\n",
    "b = int(weight)\n",
    "\n",
    "BMI = (b / (a **2))\n",
    "bmi_as_int = int(BMI)\n",
    "\n",
    "print(bmi_as_int)\n",
    "\n",
    "#there is also an alternative solution of the instructor\n",
    "\n",
    "\n",
    "''' weight_as_int = int(weight)\n",
    "height_as_float = float(height)'''\n",
    "\n",
    "''' Using the exponent operator **\n",
    "bmi = weight_as_int / height_as_float ** 2\n",
    "\n",
    " or using multiplication and PEMDAS\n",
    "bmi = weight_as_int / (height_as_float * height_as_float)\n",
    "\n",
    "bmi_as_int = int(BMI)\n",
    "\n",
    "print(bmi_as_int)'''"
   ]
  },
  {
   "cell_type": "markdown",
   "id": "8f63db65-6601-4469-9099-6a603fa02e39",
   "metadata": {},
   "source": [
    "# Tip Calculator\n"
   ]
  },
  {
   "cell_type": "code",
   "execution_count": 8,
   "id": "ca2a0300-fc43-4eb9-a47a-4cbb921049c2",
   "metadata": {},
   "outputs": [
    {
     "name": "stdout",
     "output_type": "stream",
     "text": [
      "Welcome to the tip calculator!\n"
     ]
    },
    {
     "name": "stdin",
     "output_type": "stream",
     "text": [
      "What was the total bill? $ 22\n",
      "How much tip would you like to give? 10, 12, or 15?  12\n",
      "How many people to split the bill? 1\n"
     ]
    },
    {
     "name": "stdout",
     "output_type": "stream",
     "text": [
      "Each person should pay: $24.64\n"
     ]
    }
   ],
   "source": [
    "''' My solution\n",
    "\n",
    "If the bill was $150.00, split between 5 people, with 12% tip. \n",
    "\n",
    "#Each person should pay (150.00 / 5) * 1.12 = 33.6\n",
    "#Format the result to 2 decimal places = 33.60\n",
    "\n",
    "#Tip: There are 2 ways to round a number. You might have to do some Googling to solve this.💪\n",
    "\n",
    "#Write your code below this line 👇\n",
    "print(\"Welcome to the tip calculator\")\n",
    "number_people = int(input(\"n: \"))\n",
    "bill = int(input(\"b: \"))\n",
    "persentage = int(1.12)\n",
    "\n",
    "result = (bill / number_people * persentage)\n",
    "print(result, 2)'''\n",
    "\n",
    "#the tutor's solution\n",
    "\n",
    "#If the bill was $150.00, split between 5 people, with 12% tip. \n",
    "#Each person should pay (150.00 / 5) * 1.12 = 33.6\n",
    "#Round the result to 2 decimal places.\n",
    "print(\"Welcome to the tip calculator!\")\n",
    "bill = float(input(\"What was the total bill? $\"))\n",
    "tip = int(input(\"How much tip would you like to give? 10, 12, or 15? \"))\n",
    "people = int(input(\"How many people to split the bill?\"))\n",
    "\n",
    "#long form\n",
    "tip_as_percent = tip / 100\n",
    "total_tip_amount = bill * tip_as_percent\n",
    "total_bill = bill + total_tip_amount\n",
    "bill_per_person = total_bill / people\n",
    "final_amount = round(bill_per_person, 2)\n",
    "\n",
    "#If you want the final_amount to always have 2 decimal places.\n",
    "#e.g. $12 becomes $12.00\n",
    "#You can use this link to figure ou\n",
    "t how to do this:\n",
    "#https://www.kite.com/python/answers/how-to-print-a-float-with-two-decimal-places-in-python\n",
    "#This is how you can implement it:\n",
    "final_amount = \"{:.2f}\".format(bill_per_person)\n",
    "\n",
    "print(f\"Each person should pay: ${final_amount}\")\n"
   ]
  },
  {
   "cell_type": "markdown",
   "id": "a28966a5-fc27-48bd-98ce-28579b5e4d3e",
   "metadata": {},
   "source": [
    "# Love Calculator"
   ]
  },
  {
   "cell_type": "code",
   "execution_count": 15,
   "id": "6c5541b8-a6f1-4bf5-97ca-942a607770bc",
   "metadata": {},
   "outputs": [
    {
     "name": "stdout",
     "output_type": "stream",
     "text": [
      "Welcome to the Love Calculator!\n"
     ]
    },
    {
     "name": "stdin",
     "output_type": "stream",
     "text": [
      "What is your name? \n",
      " Alex\n",
      "What is their name? \n",
      " Celina\n"
     ]
    },
    {
     "name": "stdout",
     "output_type": "stream",
     "text": [
      "Your score {love_score} makes you go like coke and mentos\n",
      "6\n"
     ]
    }
   ],
   "source": [
    "# 🚨 Don't change the code below 👇\n",
    "print(\"Welcome to the Love Calculator!\")\n",
    "name_1 = input(\"What is your name? \\n\")\n",
    "name_2 = input(\"What is their name? \\n\")\n",
    "# 🚨 Don't change the code above 👆\n",
    "\n",
    "#Write your code below this line 👇\n",
    "# first thing we do is to use the combine string function and combine names 1 and 2, after that we turn it into a lower cases\n",
    "combine_string = name_1 + name_2\n",
    "lower_case_string = combine_string.lower()\n",
    "\n",
    "#next thing we do is to use the count function for each letter and then add them all up\n",
    "t = lower_case_string.count(\"t\")\n",
    "r = lower_case_string.count(\"r\")\n",
    "u = lower_case_string.count(\"u\")\n",
    "e = lower_case_string.count(\"e\")\n",
    "\n",
    "true = t + r + u + e\n",
    "\n",
    "l = lower_case_string.count(\"l\")\n",
    "o = lower_case_string.count(\"o\")\n",
    "v = lower_case_string.count(\"v\")\n",
    "e = lower_case_string.count(\"e\")\n",
    "\n",
    "love = l + o + v + e\n",
    "\n",
    "# the final part is to add both as and int and string\n",
    "love_score = int(str(true)) + int(str(love))\n",
    "\n",
    "#lastly, we use if/elif/else and the logical operators \n",
    "if (love_score <10) or (love_score > 90):\n",
    "  print(\"Your score {love_score} makes you go like coke and mentos\")\n",
    "elif (love_score <40) or (love_score <50):\n",
    "  print(\"Your score {love_score} means you are alright together\")\n",
    "else:\n",
    "  print(\"Your score is {love_score}\")\n",
    "\n",
    "print(love_score)"
   ]
  },
  {
   "cell_type": "code",
   "execution_count": null,
   "id": "55e00bd3-0ae8-42d8-8c27-4c4f74a5095c",
   "metadata": {},
   "outputs": [],
   "source": []
  },
  {
   "cell_type": "code",
   "execution_count": null,
   "id": "4f811f93-5bbf-4c8e-a595-8e1d6d28671d",
   "metadata": {},
   "outputs": [],
   "source": []
  }
 ],
 "metadata": {
  "kernelspec": {
   "display_name": "Python 3 (ipykernel)",
   "language": "python",
   "name": "python3"
  },
  "language_info": {
   "codemirror_mode": {
    "name": "ipython",
    "version": 3
   },
   "file_extension": ".py",
   "mimetype": "text/x-python",
   "name": "python",
   "nbconvert_exporter": "python",
   "pygments_lexer": "ipython3",
   "version": "3.9.12"
  }
 },
 "nbformat": 4,
 "nbformat_minor": 5
}
