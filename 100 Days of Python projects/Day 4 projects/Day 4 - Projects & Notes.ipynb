{
 "cells": [
  {
   "cell_type": "markdown",
   "id": "a7abb629-23d9-41fe-bad6-107275f3e484",
   "metadata": {},
   "source": [
    "# Day 4 - Projects & Notes"
   ]
  },
  {
   "cell_type": "markdown",
   "id": "1f8c352d-c487-495c-ac26-c7b5507e2180",
   "metadata": {
    "tags": []
   },
   "source": [
    "# Who will pay the bill? Challange"
   ]
  },
  {
   "cell_type": "code",
   "execution_count": 32,
   "id": "ae66d7ed-42d9-4d69-b7cf-a7ff74c5c903",
   "metadata": {
    "tags": []
   },
   "outputs": [
    {
     "name": "stdout",
     "output_type": "stream",
     "text": [
      "Friend's turn to pay the bill is:  Ivan\n"
     ]
    }
   ],
   "source": [
    "import random\n",
    "\n",
    "friends = ['Alex', 'Ivan', 'Ros', 'Stan', 'Michelle', 'Gerry']\n",
    "\n",
    "\n",
    "friend = random.choice(friends)\n",
    "\n",
    "print(\"Friend's turn to pay the bill is:  \" + friend)\n"
   ]
  },
  {
   "cell_type": "markdown",
   "id": "14ea0ac2-88ae-472e-976b-9a2a53a47044",
   "metadata": {},
   "source": [
    "- The for loop version"
   ]
  },
  {
   "cell_type": "code",
   "execution_count": 33,
   "id": "5c6a5006-bb43-440b-9706-e8d4feff74a3",
   "metadata": {
    "tags": []
   },
   "outputs": [
    {
     "name": "stdout",
     "output_type": "stream",
     "text": [
      "Friend's turn to pay the bill is: Gerry\n"
     ]
    }
   ],
   "source": [
    "import random\n",
    "\n",
    "friends = ['Alex', 'Ivan', 'Ros', 'Stan', 'Michelle', 'Gerry']\n",
    "\n",
    "def friend():\n",
    "    index = random.randint(0, len(friends) - 1)\n",
    "    for f in range(len(friends)):\n",
    "        if f == index:\n",
    "            return friends[f]\n",
    "\n",
    "# the index line generates a random integer between 0 and the last index of the friends list.len(friends) - 1 is used because list indices start at 0.\n",
    "# if starts a loop that iterates through each index of the friends list.\n",
    "# Return checks if the current loop index i matches the randomly generated index.\n",
    "\n",
    "print(\"Friend's turn to pay the bill is: \" + friend())\n",
    "        "
   ]
  },
  {
   "cell_type": "markdown",
   "id": "090f8956-9331-4646-95fb-cd1318cecc19",
   "metadata": {},
   "source": [
    "- The tutor's solution"
   ]
  },
  {
   "cell_type": "code",
   "execution_count": 36,
   "id": "3cb0a80b-c733-4474-98ec-56790a52d516",
   "metadata": {},
   "outputs": [
    {
     "name": "stdout",
     "output_type": "stream",
     "text": [
      "Ivan\n"
     ]
    }
   ],
   "source": [
    "import random\n",
    "\n",
    "friends = ['Alex', 'Ivan', 'Ros', 'Stan', 'Michelle', 'Gerry']\n",
    "\n",
    "# choice one : print(random.choice(frineds))\n",
    "\n",
    "# choice two:\n",
    "\n",
    "''' f_index = random.randint(a:0, b:4)\n",
    "\n",
    "print(frineds[f_index])'''\n",
    "\n",
    "print(random.choice(frineds))"
   ]
  },
  {
   "cell_type": "markdown",
   "id": "814a2907-8db5-44b3-b782-3775b94f3842",
   "metadata": {},
   "source": [
    "#  IndexErrors and Working with Nested Lists"
   ]
  },
  {
   "cell_type": "code",
   "execution_count": 37,
   "id": "7d855109-6918-496c-87ad-dc7a81e94fce",
   "metadata": {},
   "outputs": [
    {
     "ename": "IndexError",
     "evalue": "list index out of range",
     "output_type": "error",
     "traceback": [
      "\u001b[0;31m---------------------------------------------------------------------------\u001b[0m",
      "\u001b[0;31mIndexError\u001b[0m                                Traceback (most recent call last)",
      "Input \u001b[0;32mIn [37]\u001b[0m, in \u001b[0;36m<cell line: 7>\u001b[0;34m()\u001b[0m\n\u001b[1;32m      1\u001b[0m states \u001b[38;5;241m=\u001b[39m [ \u001b[38;5;124m\"\u001b[39m\u001b[38;5;124mAK\u001b[39m\u001b[38;5;124m\"\u001b[39m, \u001b[38;5;124m\"\u001b[39m\u001b[38;5;124mAL\u001b[39m\u001b[38;5;124m\"\u001b[39m, \u001b[38;5;124m\"\u001b[39m\u001b[38;5;124mAR\u001b[39m\u001b[38;5;124m\"\u001b[39m, \u001b[38;5;124m\"\u001b[39m\u001b[38;5;124mAZ\u001b[39m\u001b[38;5;124m\"\u001b[39m, \u001b[38;5;124m\"\u001b[39m\u001b[38;5;124mCA\u001b[39m\u001b[38;5;124m\"\u001b[39m, \u001b[38;5;124m\"\u001b[39m\u001b[38;5;124mCO\u001b[39m\u001b[38;5;124m\"\u001b[39m, \u001b[38;5;124m\"\u001b[39m\u001b[38;5;124mCT\u001b[39m\u001b[38;5;124m\"\u001b[39m, \u001b[38;5;124m\"\u001b[39m\u001b[38;5;124mDE\u001b[39m\u001b[38;5;124m\"\u001b[39m, \u001b[38;5;124m\"\u001b[39m\u001b[38;5;124mFL\u001b[39m\u001b[38;5;124m\"\u001b[39m, \u001b[38;5;124m\"\u001b[39m\u001b[38;5;124mGA\u001b[39m\u001b[38;5;124m\"\u001b[39m, \u001b[38;5;124m\"\u001b[39m\u001b[38;5;124mHI\u001b[39m\u001b[38;5;124m\"\u001b[39m, \u001b[38;5;124m\"\u001b[39m\u001b[38;5;124mIA\u001b[39m\u001b[38;5;124m\"\u001b[39m,\n\u001b[1;32m      2\u001b[0m \u001b[38;5;124m\"\u001b[39m\u001b[38;5;124mID\u001b[39m\u001b[38;5;124m\"\u001b[39m, \u001b[38;5;124m\"\u001b[39m\u001b[38;5;124mIL\u001b[39m\u001b[38;5;124m\"\u001b[39m, \u001b[38;5;124m\"\u001b[39m\u001b[38;5;124mIN\u001b[39m\u001b[38;5;124m\"\u001b[39m, \u001b[38;5;124m\"\u001b[39m\u001b[38;5;124mKS\u001b[39m\u001b[38;5;124m\"\u001b[39m, \u001b[38;5;124m\"\u001b[39m\u001b[38;5;124mKY\u001b[39m\u001b[38;5;124m\"\u001b[39m, \u001b[38;5;124m\"\u001b[39m\u001b[38;5;124mLA\u001b[39m\u001b[38;5;124m\"\u001b[39m, \u001b[38;5;124m\"\u001b[39m\u001b[38;5;124mMA\u001b[39m\u001b[38;5;124m\"\u001b[39m, \u001b[38;5;124m\"\u001b[39m\u001b[38;5;124mMD\u001b[39m\u001b[38;5;124m\"\u001b[39m, \u001b[38;5;124m\"\u001b[39m\u001b[38;5;124mME\u001b[39m\u001b[38;5;124m\"\u001b[39m, \u001b[38;5;124m\"\u001b[39m\u001b[38;5;124mMI\u001b[39m\u001b[38;5;124m\"\u001b[39m, \u001b[38;5;124m\"\u001b[39m\u001b[38;5;124mMN\u001b[39m\u001b[38;5;124m\"\u001b[39m, \u001b[38;5;124m\"\u001b[39m\u001b[38;5;124mMO\u001b[39m\u001b[38;5;124m\"\u001b[39m,\n\u001b[1;32m      3\u001b[0m \u001b[38;5;124m\"\u001b[39m\u001b[38;5;124mMS\u001b[39m\u001b[38;5;124m\"\u001b[39m, \u001b[38;5;124m\"\u001b[39m\u001b[38;5;124mMT\u001b[39m\u001b[38;5;124m\"\u001b[39m, \u001b[38;5;124m\"\u001b[39m\u001b[38;5;124mNC\u001b[39m\u001b[38;5;124m\"\u001b[39m, \u001b[38;5;124m\"\u001b[39m\u001b[38;5;124mND\u001b[39m\u001b[38;5;124m\"\u001b[39m, \u001b[38;5;124m\"\u001b[39m\u001b[38;5;124mNE\u001b[39m\u001b[38;5;124m\"\u001b[39m, \u001b[38;5;124m\"\u001b[39m\u001b[38;5;124mNH\u001b[39m\u001b[38;5;124m\"\u001b[39m, \u001b[38;5;124m\"\u001b[39m\u001b[38;5;124mNJ\u001b[39m\u001b[38;5;124m\"\u001b[39m, \u001b[38;5;124m\"\u001b[39m\u001b[38;5;124mNM\u001b[39m\u001b[38;5;124m\"\u001b[39m, \u001b[38;5;124m\"\u001b[39m\u001b[38;5;124mNV\u001b[39m\u001b[38;5;124m\"\u001b[39m, \u001b[38;5;124m\"\u001b[39m\u001b[38;5;124mNY\u001b[39m\u001b[38;5;124m\"\u001b[39m, \u001b[38;5;124m\"\u001b[39m\u001b[38;5;124mOH\u001b[39m\u001b[38;5;124m\"\u001b[39m, \u001b[38;5;124m\"\u001b[39m\u001b[38;5;124mOK\u001b[39m\u001b[38;5;124m\"\u001b[39m,\n\u001b[1;32m      4\u001b[0m \u001b[38;5;124m\"\u001b[39m\u001b[38;5;124mOR\u001b[39m\u001b[38;5;124m\"\u001b[39m, \u001b[38;5;124m\"\u001b[39m\u001b[38;5;124mPA\u001b[39m\u001b[38;5;124m\"\u001b[39m, \u001b[38;5;124m\"\u001b[39m\u001b[38;5;124mRI\u001b[39m\u001b[38;5;124m\"\u001b[39m, \u001b[38;5;124m\"\u001b[39m\u001b[38;5;124mSC\u001b[39m\u001b[38;5;124m\"\u001b[39m, \u001b[38;5;124m\"\u001b[39m\u001b[38;5;124mSD\u001b[39m\u001b[38;5;124m\"\u001b[39m, \u001b[38;5;124m\"\u001b[39m\u001b[38;5;124mTN\u001b[39m\u001b[38;5;124m\"\u001b[39m, \u001b[38;5;124m\"\u001b[39m\u001b[38;5;124mTX\u001b[39m\u001b[38;5;124m\"\u001b[39m, \u001b[38;5;124m\"\u001b[39m\u001b[38;5;124mUT\u001b[39m\u001b[38;5;124m\"\u001b[39m, \u001b[38;5;124m\"\u001b[39m\u001b[38;5;124mVA\u001b[39m\u001b[38;5;124m\"\u001b[39m, \u001b[38;5;124m\"\u001b[39m\u001b[38;5;124mVT\u001b[39m\u001b[38;5;124m\"\u001b[39m, \u001b[38;5;124m\"\u001b[39m\u001b[38;5;124mWA\u001b[39m\u001b[38;5;124m\"\u001b[39m, \u001b[38;5;124m\"\u001b[39m\u001b[38;5;124mWI\u001b[39m\u001b[38;5;124m\"\u001b[39m,\n\u001b[1;32m      5\u001b[0m \u001b[38;5;124m\"\u001b[39m\u001b[38;5;124mWV\u001b[39m\u001b[38;5;124m\"\u001b[39m, \u001b[38;5;124m\"\u001b[39m\u001b[38;5;124mWY\u001b[39m\u001b[38;5;124m\"\u001b[39m, \u001b[38;5;124m\"\u001b[39m\u001b[38;5;124mDC\u001b[39m\u001b[38;5;124m\"\u001b[39m, \u001b[38;5;124m\"\u001b[39m\u001b[38;5;124mAS\u001b[39m\u001b[38;5;124m\"\u001b[39m, \u001b[38;5;124m\"\u001b[39m\u001b[38;5;124mGU\u001b[39m\u001b[38;5;124m\"\u001b[39m, \u001b[38;5;124m\"\u001b[39m\u001b[38;5;124mMP\u001b[39m\u001b[38;5;124m\"\u001b[39m, \u001b[38;5;124m\"\u001b[39m\u001b[38;5;124mPR\u001b[39m\u001b[38;5;124m\"\u001b[39m, \u001b[38;5;124m\"\u001b[39m\u001b[38;5;124mVI\u001b[39m\u001b[38;5;124m\"\u001b[39m]\n\u001b[0;32m----> 7\u001b[0m \u001b[38;5;28mprint\u001b[39m(\u001b[43mstates\u001b[49m\u001b[43m[\u001b[49m\u001b[38;5;241;43m60\u001b[39;49m\u001b[43m]\u001b[49m)\n",
      "\u001b[0;31mIndexError\u001b[0m: list index out of range"
     ]
    }
   ],
   "source": [
    "states = [ \"AK\", \"AL\", \"AR\", \"AZ\", \"CA\", \"CO\", \"CT\", \"DE\", \"FL\", \"GA\", \"HI\", \"IA\",\n",
    "\"ID\", \"IL\", \"IN\", \"KS\", \"KY\", \"LA\", \"MA\", \"MD\", \"ME\", \"MI\", \"MN\", \"MO\",\n",
    "\"MS\", \"MT\", \"NC\", \"ND\", \"NE\", \"NH\", \"NJ\", \"NM\", \"NV\", \"NY\", \"OH\", \"OK\",\n",
    "\"OR\", \"PA\", \"RI\", \"SC\", \"SD\", \"TN\", \"TX\", \"UT\", \"VA\", \"VT\", \"WA\", \"WI\",\n",
    "\"WV\", \"WY\", \"DC\", \"AS\", \"GU\", \"MP\", \"PR\", \"VI\"]\n",
    "\n",
    "print(states[60])"
   ]
  },
  {
   "cell_type": "markdown",
   "id": "f13c50b6-0729-4a7e-b193-89dc0e78040b",
   "metadata": {},
   "source": [
    "- Always bear in mind the index error"
   ]
  },
  {
   "cell_type": "code",
   "execution_count": 41,
   "id": "e36b8ac4-6ff9-4aa4-a0b3-ee774e93776d",
   "metadata": {},
   "outputs": [
    {
     "name": "stdout",
     "output_type": "stream",
     "text": [
      "[['Strawberries', 'Nectarines', 'Apples', 'Grapes', 'Peaches', 'Cherries', 'Pears'], ['Spinach', 'Kale', 'Celery', 'Potatoes']]\n"
     ]
    }
   ],
   "source": [
    "''' - IndexOutOfRange error\n",
    "\n",
    "Lets say we have a list l with number of elements n\n",
    "\n",
    "index of left most element is 0 and index of last element is n-1 \n",
    "\n",
    "If you try to print element at index [n] you get the error as last element in the list was present at index n-1.\n",
    "\n",
    "- NESTED LISTS'''\n",
    "\n",
    "# dirty_dozen=[\"Strawberries\",\"Spinach\",\"Kale\",\"Nectarines\",\"Apples\",\"Grapes\",\"Peaches\",\"Cherries\",\"Pears\",\"Tomatoes\",\"Celery\",\"Potatoes\"]\n",
    "\n",
    "fruits=[\"Strawberries\",\"Nectarines\",\"Apples\",\"Grapes\",\"Peaches\",\"Cherries\",\"Pears\"]\n",
    "vegetables=[\"Spinach\",\"Kale\",\"Celery\",\"Potatoes\"]\n",
    "dirty_dozen=[fruits,vegetables]\n",
    "print(dirty_dozen)"
   ]
  },
  {
   "cell_type": "code",
   "execution_count": 47,
   "id": "e39b93ce-bfca-469c-9848-242edc10c21f",
   "metadata": {},
   "outputs": [
    {
     "name": "stdout",
     "output_type": "stream",
     "text": [
      "Celery\n"
     ]
    }
   ],
   "source": [
    "fruits = [\"Strawberries\", \"Nectarines\", \"Apples\", \"Grapes\", \"Peaches\", \"Cherries\", \"Pears\"]\n",
    "vegetables = [\"Spinach\", \"Kale\", \"Tomatoes\", \"Celery\", \"Potatoes\"]\n",
    " \n",
    "dirty_dozen = [fruits, vegetables]\n",
    " \n",
    "# different of the Python List concepts\n",
    "\n",
    "''' print(dirty_dozen)\n",
    "Then print out:\n",
    "print(dirty_dozen[0])\n",
    "print(dirty_dozen[1])\n",
    "To see what happens at the next stage print out:\n",
    "print(dirty_dozen[1][2])'''\n",
    "\n",
    "print(dirty_dozen[1][3])\n",
    "\n",
    "# in this case python prints the list from the second list"
   ]
  },
  {
   "cell_type": "markdown",
   "id": "8dfda743-4ef1-49e0-a09e-4413146027a6",
   "metadata": {},
   "source": [
    "- Python prints the string from the second list because of how the indexing works in the dirty_dozen list. Let's break it down:\n",
    "\n",
    "dirty_dozen is a list containing two elements: fruits and vegetables.\n",
    "\n",
    "dirty_dozen refers to the fruits list\n",
    "\n",
    "dirty_dozen[1] refers to the vegetables list\n",
    "\n",
    "In the print statement print(dirty_dozen[1][3]):\n",
    "\n",
    "dirty_dozen[1] selects the second list (vegetables)\n",
    "\n",
    "[3] then selects the fourth item (index 3) from that list\n",
    "\n",
    "In the vegetables list, the item at index 3 is \"Celery\".\n",
    "\n",
    "So, dirty_dozen[1][3] is equivalent to vegetables[3], which is \"Celery\".\n",
    "\n",
    "If you wanted to print an item from the fruits list instead, you would use dirty_dozen followed by the desired index. For example, print(dirty_dozen[1]) would print \"Nectarines\".\n",
    "\n",
    "This demonstrates how nested lists work in Python - you can access elements of inner lists by chaining index operations."
   ]
  },
  {
   "cell_type": "markdown",
   "id": "5e725181-d6cf-4447-a1a2-9e007bfa8de3",
   "metadata": {},
   "source": [
    "# Rock, Paper, Scissors game - My complicated version"
   ]
  },
  {
   "cell_type": "code",
   "execution_count": 1,
   "id": "fe705316-23c1-4634-ac38-cf6dc7b89ce0",
   "metadata": {},
   "outputs": [
    {
     "name": "stdout",
     "output_type": "stream",
     "text": [
      "Welcome to the ROCK, PAPER, SCISSORS game\n",
      "0 Wins, 0 Losses, 0 Ties\n",
      "Enter your move: (r)ock (p)aper (s)cissors or (q)uit\n"
     ]
    },
    {
     "name": "stdin",
     "output_type": "stream",
     "text": [
      " r\n"
     ]
    },
    {
     "name": "stdout",
     "output_type": "stream",
     "text": [
      "ROCK versus...\n",
      " \n",
      "    _______\n",
      "---'   ____)\n",
      "      (_____)\n",
      "      (_____)\n",
      "      (____)\n",
      "---.__(___)\n",
      "\n",
      "PC MOVE - PAPER\n",
      "\n",
      "    _______\n",
      "---'   ____)____\n",
      "          ______)\n",
      "          _______)\n",
      "         _______)\n",
      "---.__________)\n",
      "\n",
      "You lose!\n",
      "0 Wins, 1 Losses, 0 Ties\n",
      "Enter your move: (r)ock (p)aper (s)cissors or (q)uit\n"
     ]
    },
    {
     "name": "stdin",
     "output_type": "stream",
     "text": [
      " r\n"
     ]
    },
    {
     "name": "stdout",
     "output_type": "stream",
     "text": [
      "ROCK versus...\n",
      " \n",
      "    _______\n",
      "---'   ____)\n",
      "      (_____)\n",
      "      (_____)\n",
      "      (____)\n",
      "---.__(___)\n",
      "\n",
      "PC MOVE - PAPER\n",
      "\n",
      "    _______\n",
      "---'   ____)____\n",
      "          ______)\n",
      "          _______)\n",
      "         _______)\n",
      "---.__________)\n",
      "\n",
      "You lose!\n",
      "0 Wins, 2 Losses, 0 Ties\n",
      "Enter your move: (r)ock (p)aper (s)cissors or (q)uit\n"
     ]
    },
    {
     "name": "stdin",
     "output_type": "stream",
     "text": [
      " r\n"
     ]
    },
    {
     "name": "stdout",
     "output_type": "stream",
     "text": [
      "ROCK versus...\n",
      " \n",
      "    _______\n",
      "---'   ____)\n",
      "      (_____)\n",
      "      (_____)\n",
      "      (____)\n",
      "---.__(___)\n",
      "\n",
      "PC MOVE - SCISSORS\n",
      "\n",
      "    _______\n",
      "---'   ____)____\n",
      "          ______)\n",
      "       __________)\n",
      "      (____)\n",
      "---.__(___)\n",
      "\n",
      "You win!\n",
      "1 Wins, 2 Losses, 0 Ties\n",
      "Enter your move: (r)ock (p)aper (s)cissors or (q)uit\n"
     ]
    },
    {
     "name": "stdin",
     "output_type": "stream",
     "text": [
      " p\n"
     ]
    },
    {
     "name": "stdout",
     "output_type": "stream",
     "text": [
      "PAPER versus...\n",
      "\n",
      "    _______\n",
      "---'   ____)____\n",
      "          ______)\n",
      "          _______)\n",
      "         _______)\n",
      "---.__________)\n",
      "\n",
      "PC MOVE - ROCK\n",
      " \n",
      "    _______\n",
      "---'   ____)\n",
      "      (_____)\n",
      "      (_____)\n",
      "      (____)\n",
      "---.__(___)\n",
      "\n",
      "You win!\n",
      "2 Wins, 2 Losses, 0 Ties\n",
      "Enter your move: (r)ock (p)aper (s)cissors or (q)uit\n"
     ]
    },
    {
     "name": "stdin",
     "output_type": "stream",
     "text": [
      " s\n"
     ]
    },
    {
     "name": "stdout",
     "output_type": "stream",
     "text": [
      "SCISSORS versus...\n",
      "\n",
      "    _______\n",
      "---'   ____)____\n",
      "          ______)\n",
      "       __________)\n",
      "      (____)\n",
      "---.__(___)\n",
      "\n",
      "PC MOVE - PAPER\n",
      "\n",
      "    _______\n",
      "---'   ____)____\n",
      "          ______)\n",
      "          _______)\n",
      "         _______)\n",
      "---.__________)\n",
      "\n",
      "You win!\n",
      "3 Wins, 2 Losses, 0 Ties\n",
      "Enter your move: (r)ock (p)aper (s)cissors or (q)uit\n"
     ]
    },
    {
     "name": "stdin",
     "output_type": "stream",
     "text": [
      " q\n"
     ]
    },
    {
     "ename": "SystemExit",
     "evalue": "",
     "output_type": "error",
     "traceback": [
      "An exception has occurred, use %tb to see the full traceback.\n",
      "\u001b[0;31mSystemExit\u001b[0m\n"
     ]
    },
    {
     "name": "stderr",
     "output_type": "stream",
     "text": [
      "/Users/aleksandarpeshev/opt/anaconda3/lib/python3.9/site-packages/IPython/core/interactiveshell.py:3377: UserWarning: To exit: use 'exit', 'quit', or Ctrl-D.\n",
      "  warn(\"To exit: use 'exit', 'quit', or Ctrl-D.\", stacklevel=1)\n"
     ]
    }
   ],
   "source": [
    "import random, sys\n",
    "\n",
    "print('Welcome to the ROCK, PAPER, SCISSORS game')\n",
    "\n",
    "# these are the variables with the visuals for the game \n",
    "\n",
    "rock = ''' \n",
    "    _______\n",
    "---'   ____)\n",
    "      (_____)\n",
    "      (_____)\n",
    "      (____)\n",
    "---.__(___)\n",
    "'''\n",
    "\n",
    "paper = '''\n",
    "    _______\n",
    "---'   ____)____\n",
    "          ______)\n",
    "          _______)\n",
    "         _______)\n",
    "---.__________)\n",
    "'''\n",
    "\n",
    "scissors = '''\n",
    "    _______\n",
    "---'   ____)____\n",
    "          ______)\n",
    "       __________)\n",
    "      (____)\n",
    "---.__(___)\n",
    "'''\n",
    "\n",
    "# These variables keep track of the number of wins, losses, and ties.\n",
    "\n",
    "wins = 0\n",
    "losses = 0\n",
    "ties = 0\n",
    "\n",
    "while True: # The main game loop.\n",
    "    print('%s Wins, %s Losses, %s Ties' % (wins, losses, ties))\n",
    "    while True: # The player input loop.\n",
    "        print('Enter your move: (r)ock (p)aper (s)cissors or (q)uit')\n",
    "        playerMove = input()\n",
    "        if playerMove == 'q':\n",
    "            sys.exit() # Quit the program.\n",
    "        if playerMove == 'r' or playerMove == 'p' or playerMove == 's':\n",
    "            break # Break out of the player input loop.\n",
    "        print('Type one of r, p, s, or q.')\n",
    "\n",
    "# the main idea is to break down the problem into smaller problems\n",
    "# e.g. what the player chooses, what the computer chooses\n",
    "# the nested while loop ( which is the advancd solution\n",
    "\n",
    "    # Display what the player chose:\n",
    "    if playerMove == 'r':\n",
    "        print('ROCK versus...')\n",
    "        print(rock)\n",
    "    elif playerMove == 'p':\n",
    "        print('PAPER versus...')\n",
    "        print(paper)\n",
    "    elif playerMove == 's':\n",
    "        print('SCISSORS versus...')\n",
    "        print(scissors)\n",
    "\n",
    "    # Display what the computer chose:\n",
    "    randomNumber = random.randint(1, 3)\n",
    "    if randomNumber == 1:\n",
    "        computerMove = 'r'\n",
    "        print('PC MOVE - ROCK')\n",
    "        print(rock)\n",
    "    elif randomNumber == 2:\n",
    "        computerMove = 'p'\n",
    "        print('PC MOVE - PAPER')\n",
    "        print(paper)\n",
    "    elif randomNumber == 3:\n",
    "        computerMove = 's'\n",
    "        print('PC MOVE - SCISSORS')\n",
    "        print(scissors)\n",
    "\n",
    "    # Display and record the win/loss/tie:\n",
    "    if playerMove == computerMove:\n",
    "        print('It is a tie!')\n",
    "        ties = ties + 1\n",
    "    elif playerMove == 'r' and computerMove == 's':\n",
    "        print('You win!')\n",
    "        wins = wins + 1\n",
    "    elif playerMove == 'p' and computerMove == 'r':\n",
    "        print('You win!')\n",
    "        wins = wins + 1\n",
    "    elif playerMove == 's' and computerMove == 'p':\n",
    "        print('You win!')\n",
    "        wins = wins + 1\n",
    "    elif playerMove == 'r' and computerMove == 'p':\n",
    "        print('You lose!')\n",
    "        losses = losses + 1\n",
    "    elif playerMove == 'p' and computerMove == 's':\n",
    "        print('You lose!')\n",
    "        losses = losses + 1\n",
    "    elif playerMove == 's' and computerMove == 'r':\n",
    "        print('You lose!')\n",
    "        losses = losses + 1"
   ]
  },
  {
   "cell_type": "markdown",
   "id": "c414b52a-bb81-49b1-9894-484cfb78699a",
   "metadata": {},
   "source": [
    "# Explanation:\n",
    "\n",
    "- The code starts by initializing variables to keep track of wins, losses, and ties.\n",
    "\n",
    "- The main game loop (outer while True) runs indefinitely until the player quits.\n",
    "\n",
    "- At the start of each round, it displays the current score.\n",
    "\n",
    "- The player input loop (inner while True) asks for the player's move and validates it:\n",
    "\n",
    "If 'q' is entered, the game exits.\n",
    "\n",
    "If a valid move (r, p, s) is entered, it breaks out of this loop.\n",
    "\n",
    "Otherwise, it prompts the player to enter a valid move.\n",
    "\n",
    "- The code then displays the player's move (and presumably an ASCII art representation, though these variables are not defined in the provided code).\n",
    "\n",
    "The computer's move is randomly generated using random.randint(1, 3) and displayed.\n",
    "\n",
    "- Finally, the code compares the player's move to the computer's move to determine the outcome:\n",
    "\n",
    "If they're the same, it's a tie.\n",
    "\n",
    "Otherwise, it checks all winning and losing combinations.\n",
    "\n",
    "- The appropriate counter (wins, losses, or ties) is incremented.\n",
    "\n",
    "- The game then loops back to the beginning for the next round.\n",
    "\n",
    "- Note: The code assumes the existence of sys and random modules, as well as variables rock, paper, and scissors (likely ASCII art), which are not shown in this snippet. Make sure these are properly imported and defined for the code to work correctly."
   ]
  },
  {
   "cell_type": "markdown",
   "id": "42d51b0a-bc5e-420c-b423-a381a4e78b36",
   "metadata": {},
   "source": [
    "# The intended simpler version"
   ]
  },
  {
   "cell_type": "code",
   "execution_count": 81,
   "id": "66e0cecf-6ced-4abc-b1fa-4dcc40d998e7",
   "metadata": {},
   "outputs": [
    {
     "name": "stdout",
     "output_type": "stream",
     "text": [
      "Welcome to the ROCK, PAPER, SCISSORS game\n"
     ]
    },
    {
     "name": "stdin",
     "output_type": "stream",
     "text": [
      "What do you choose? Using the keyboard press 0 for rock, 1 for paper, 2 for scissors, or q for quit.\n",
      " 2\n"
     ]
    },
    {
     "name": "stdout",
     "output_type": "stream",
     "text": [
      "\n",
      "    _______\n",
      "---'   ____)____\n",
      "          ______)\n",
      "       __________)\n",
      "      (____)\n",
      "---.__(___)\n",
      "\n",
      " \n",
      "    _______\n",
      "---'   ____)\n",
      "      (_____)\n",
      "      (_____)\n",
      "      (____)\n",
      "---.__(___)\n",
      "\n",
      "Computer chose 0\n",
      "You lose :(!\n"
     ]
    }
   ],
   "source": [
    "import random\n",
    "\n",
    "print('Welcome to the ROCK, PAPER, SCISSORS game')\n",
    "\n",
    "# these are the variables with the visuals for the game \n",
    "\n",
    "rock = ''' \n",
    "    _______\n",
    "---'   ____)\n",
    "      (_____)\n",
    "      (_____)\n",
    "      (____)\n",
    "---.__(___)\n",
    "'''\n",
    "\n",
    "scissors = '''\n",
    "    _______\n",
    "---'   ____)____\n",
    "          ______)\n",
    "       __________)\n",
    "      (____)\n",
    "---.__(___)\n",
    "'''\n",
    "\n",
    "paper = '''\n",
    "    _______\n",
    "---'   ____)____\n",
    "          ______)\n",
    "          _______)\n",
    "         _______)\n",
    "---.__________)\n",
    "'''\n",
    "\n",
    "# a variable for the image variables\n",
    "images=[rock,paper,scissors] \n",
    "\n",
    "# These variables keep track of the number of wins, losses, and ties.\n",
    "\n",
    "wins = 0\n",
    "loses = 0\n",
    "ties = 0\n",
    "\n",
    "# user selects its number and ten \n",
    "user = int(input(\"What do you choose? Using the keyboard press 0 for rock, 1 for paper, 2 for scissors, or q for quit.\\n\"))\n",
    "print(images[user])\n",
    "\n",
    "#computer randomly selects any integer from 0 to 2\n",
    "computer=random.randint(0,2)\n",
    "print(images[computer])\n",
    "print(f\"Computer chose {computer}\")\n",
    "\n",
    "# the if, else and elif logic behind the game \n",
    "\n",
    "if user >= 3 or user < 0:\n",
    "    print(\"Game over!\")\n",
    "elif user == computer:\n",
    "    print(\" It's a tie!\")\n",
    "    ties = ties + 1\n",
    "elif user == 0 and computer == 2:\n",
    "    print(\"You win!\")\n",
    "    wins = wins + 1\n",
    "elif user == 1 and computer == 0:\n",
    "    print(\"You win!\")\n",
    "    wins = wins + 1\n",
    "elif user == 2 and computer == 1:\n",
    "    print(\"You win!\")\n",
    "    wins = wins + 1\n",
    "elif computer == 0 and user == 2:\n",
    "    print(\"You lose :(!\")\n",
    "    loses = loses + 1\n",
    "elif computer == 1 and user == 0:\n",
    "    print(\"You lose :(!\")\n",
    "    loses = loses + 1\n",
    "elif computer == 2 and user == 1:\n",
    "    print(\"You lose :(!\")\n",
    "    loses = loses + 1\n",
    "elif user > computer:\n",
    "    print(\"You win!\")\n",
    "    wins = wins + 1\n",
    "elif computer > user:\n",
    "    print(\"You lose :(!\")\n",
    "    loses = loses + 1\n",
    "\n"
   ]
  },
  {
   "cell_type": "markdown",
   "id": "2cfb1d20-4169-4782-90cb-8fabfcb871a4",
   "metadata": {
    "tags": []
   },
   "source": [
    "# The visuals"
   ]
  },
  {
   "cell_type": "code",
   "execution_count": 1,
   "id": "9c1151c3-6e11-43eb-a3f9-a195276f3a8c",
   "metadata": {},
   "outputs": [],
   "source": [
    "rock = ''' \n",
    "    _______\n",
    "---'   ____)\n",
    "      (_____)\n",
    "      (_____)\n",
    "      (____)\n",
    "---.__(___)\n",
    "'''\n",
    "\n",
    "scissors = '''\n",
    "    _______\n",
    "---'   ____)____\n",
    "          ______)\n",
    "       __________)\n",
    "      (____)\n",
    "---.__(___)\n",
    "'''\n",
    "\n",
    "paper = '''\n",
    "    _______\n",
    "---'   ____)____\n",
    "          ______)\n",
    "          _______)\n",
    "         _______)\n",
    "---.__________)\n",
    "'''"
   ]
  },
  {
   "cell_type": "markdown",
   "id": "b36b840b-9de1-4b68-8893-5749d858b9ea",
   "metadata": {},
   "source": [
    "# End "
   ]
  }
 ],
 "metadata": {
  "kernelspec": {
   "display_name": "Python 3 (ipykernel)",
   "language": "python",
   "name": "python3"
  },
  "language_info": {
   "codemirror_mode": {
    "name": "ipython",
    "version": 3
   },
   "file_extension": ".py",
   "mimetype": "text/x-python",
   "name": "python",
   "nbconvert_exporter": "python",
   "pygments_lexer": "ipython3",
   "version": "3.9.12"
  }
 },
 "nbformat": 4,
 "nbformat_minor": 5
}
