{
 "cells": [
  {
   "cell_type": "markdown",
   "id": "8906da76-3312-48cb-ace9-3951726a7e8e",
   "metadata": {},
   "source": [
    "# Day 5 "
   ]
  },
  {
   "cell_type": "code",
   "execution_count": 1,
   "id": "bfc31ffa-5645-413d-90dd-ce623c31c26c",
   "metadata": {},
   "outputs": [
    {
     "name": "stdout",
     "output_type": "stream",
     "text": [
      "Apple\n",
      "Peach\n",
      "Pear\n",
      "Banana\n",
      "Mango\n"
     ]
    }
   ],
   "source": [
    "fruits = [\"Apple\", \"Peach\", \"Pear\", 'Banana', 'Mango']\n",
    "\n",
    "for f in fruits:\n",
    "    print(f)\n",
    "\n",
    "# this is how a basic for loop works\n",
    "# the f is a variable that runs in the list and it prints all strings inside the list\n"
   ]
  },
  {
   "cell_type": "code",
   "execution_count": 2,
   "id": "e1699f4f-79c8-489d-bff4-63d3b4da9ae6",
   "metadata": {},
   "outputs": [
    {
     "ename": "NameError",
     "evalue": "name 'veggies' is not defined",
     "output_type": "error",
     "traceback": [
      "\u001b[0;31m---------------------------------------------------------------------------\u001b[0m",
      "\u001b[0;31mNameError\u001b[0m                                 Traceback (most recent call last)",
      "Input \u001b[0;32mIn [2]\u001b[0m, in \u001b[0;36m<cell line: 6>\u001b[0;34m()\u001b[0m\n\u001b[1;32m      3\u001b[0m fruits \u001b[38;5;241m=\u001b[39m [\u001b[38;5;124m\"\u001b[39m\u001b[38;5;124mApple\u001b[39m\u001b[38;5;124m\"\u001b[39m, \u001b[38;5;124m\"\u001b[39m\u001b[38;5;124mPeach\u001b[39m\u001b[38;5;124m\"\u001b[39m, \u001b[38;5;124m\"\u001b[39m\u001b[38;5;124mPear\u001b[39m\u001b[38;5;124m\"\u001b[39m, \u001b[38;5;124m'\u001b[39m\u001b[38;5;124mBanana\u001b[39m\u001b[38;5;124m'\u001b[39m, \u001b[38;5;124m'\u001b[39m\u001b[38;5;124mMango\u001b[39m\u001b[38;5;124m'\u001b[39m]\n\u001b[1;32m      4\u001b[0m vaggies \u001b[38;5;241m=\u001b[39m [\u001b[38;5;124m\"\u001b[39m\u001b[38;5;124mTomato\u001b[39m\u001b[38;5;124m\"\u001b[39m, \u001b[38;5;124m\"\u001b[39m\u001b[38;5;124mSquash\u001b[39m\u001b[38;5;124m\"\u001b[39m, \u001b[38;5;124m\"\u001b[39m\u001b[38;5;124mCarrot\u001b[39m\u001b[38;5;124m\"\u001b[39m, \u001b[38;5;124m'\u001b[39m\u001b[38;5;124mOnion\u001b[39m\u001b[38;5;124m'\u001b[39m, \u001b[38;5;124m'\u001b[39m\u001b[38;5;124mBroccoli\u001b[39m\u001b[38;5;124m'\u001b[39m]\n\u001b[0;32m----> 6\u001b[0m mixed \u001b[38;5;241m=\u001b[39m [fruits,\u001b[43mveggies\u001b[49m]\n\u001b[1;32m      8\u001b[0m \u001b[38;5;28;01mfor\u001b[39;00m m \u001b[38;5;129;01min\u001b[39;00m mixed:\n\u001b[1;32m      9\u001b[0m     \u001b[38;5;28mprint\u001b[39m(m)\n",
      "\u001b[0;31mNameError\u001b[0m: name 'veggies' is not defined"
     ]
    }
   ],
   "source": [
    "# However when trying to combine the two lists in python like that, there will be an error\n",
    "\n",
    "fruits = [\"Apple\", \"Peach\", \"Pear\", 'Banana', 'Mango']\n",
    "vaggies = [\"Tomato\", \"Squash\", \"Carrot\", 'Onion', 'Broccoli']\n",
    "\n",
    "mixed = [fruits,veggies]\n",
    "\n",
    "for m in mixed:\n",
    "    print(m)"
   ]
  },
  {
   "cell_type": "markdown",
   "id": "cfc07310-d9f6-44e5-b855-962b7d05bace",
   "metadata": {},
   "source": [
    "# There are a couple of issues that need to be addressed:\n",
    "\n",
    "- Variable name mismatch: \n",
    "\n",
    "In your code, you've defined the second list as vaggies, but in the mixed list, you're using veggies. \n",
    "This will cause a NameError because veggies is not defined. Make sure to use consistent variable names.\n",
    "\n",
    "- Printing inside the loop: \n",
    "\n",
    "Your current loop is correctly set up to print each sublist (fruits and vegetables) separately.\n",
    "If you want to print both lists combined in each iteration, you'll need to modify your approach."
   ]
  },
  {
   "cell_type": "markdown",
   "id": "809f2068-ceb5-4145-a46a-6da15ce3c87d",
   "metadata": {},
   "source": [
    "# Here's a corrected and modified version that should work:\n"
   ]
  },
  {
   "cell_type": "markdown",
   "id": "b8277043-cde1-4891-947d-6a50ddbb487a",
   "metadata": {},
   "source": []
  },
  {
   "cell_type": "code",
   "execution_count": 4,
   "id": "af22d1ac-f58b-45a4-883c-ec775244a356",
   "metadata": {},
   "outputs": [
    {
     "name": "stdout",
     "output_type": "stream",
     "text": [
      "Apple Tomato\n",
      "Peach Squash\n",
      "Pear Carrot\n",
      "Banana Onion\n",
      "Mango Broccoli\n"
     ]
    }
   ],
   "source": [
    "fruits = [\"Apple\", \"Peach\", \"Pear\", 'Banana', 'Mango']\n",
    "veggies = [\"Tomato\", \"Squash\", \"Carrot\", 'Onion', 'Broccoli']\n",
    "\n",
    "mixed = [fruits, veggies]\n",
    "\n",
    "for i in range(len(mixed[0])):  # Assuming both lists have the same length\n",
    "    print(mixed[0][i], mixed[1][i])"
   ]
  },
  {
   "cell_type": "markdown",
   "id": "2c799cff-b917-4aa2-a31a-a64078a3eb88",
   "metadata": {},
   "source": [
    "# If the list have different lenght there are two options "
   ]
  },
  {
   "cell_type": "markdown",
   "id": "1ecda713-227d-48ad-8ff1-e12fc5a28d57",
   "metadata": {},
   "source": [
    "- Option 1\n",
    "\n",
    "Zip the lists and iterate over the paired items:\n"
   ]
  },
  {
   "cell_type": "code",
   "execution_count": 5,
   "id": "5da50450-12de-4ff2-91d5-652456d60f39",
   "metadata": {},
   "outputs": [
    {
     "name": "stdout",
     "output_type": "stream",
     "text": [
      "Apple Tomato\n",
      "Peach Squash\n",
      "Pear Carrot\n"
     ]
    }
   ],
   "source": [
    "fruits = [\"Apple\", \"Peach\", \"Pear\", 'Banana', 'Mango']\n",
    "veggies = [\"Tomato\", \"Squash\", \"Carrot\"]\n",
    "\n",
    "mixed = [fruits, veggies]\n",
    "\n",
    "for fruit, veggie in zip(mixed[0], mixed[1]):\n",
    "    print(fruit, veggie)"
   ]
  },
  {
   "cell_type": "markdown",
   "id": "6638bf55-9ff1-4330-90fb-2dcaa278f668",
   "metadata": {},
   "source": [
    "- Option 2\n",
    "\n",
    "Use the length of the shorter list:\n"
   ]
  },
  {
   "cell_type": "code",
   "execution_count": 6,
   "id": "73fe25b4-2b7f-455d-be5e-b3f907f5c76a",
   "metadata": {},
   "outputs": [
    {
     "name": "stdout",
     "output_type": "stream",
     "text": [
      "Apple Tomato\n",
      "Peach Squash\n",
      "Pear Carrot\n"
     ]
    }
   ],
   "source": [
    "fruits = [\"Apple\", \"Peach\", \"Pear\", 'Banana', 'Mango']\n",
    "veggies = [\"Tomato\", \"Squash\", \"Carrot\"]\n",
    "\n",
    "mixed = [fruits, veggies]\n",
    "\n",
    "for i in range(min(len(mixed[0]), len(mixed[1]))):\n",
    "    print(mixed[0][i], mixed[1][i])"
   ]
  },
  {
   "cell_type": "markdown",
   "id": "d176fbce-87f1-4f32-b09a-7f76407d357b",
   "metadata": {},
   "source": [
    "- Option 3\n",
    "\n",
    "to print all items, padding the shorter list with a placeholder. This will print \"N/A\" for missing items in the shorter list."
   ]
  },
  {
   "cell_type": "code",
   "execution_count": 7,
   "id": "b8323598-dfdc-4ea3-9259-51fd09a464e6",
   "metadata": {},
   "outputs": [
    {
     "name": "stdout",
     "output_type": "stream",
     "text": [
      "Apple Tomato\n",
      "Peach Squash\n",
      "Pear Carrot\n",
      "Banana N/A\n",
      "Mango N/A\n"
     ]
    }
   ],
   "source": [
    "fruits = [\"Apple\", \"Peach\", \"Pear\", 'Banana', 'Mango']\n",
    "veggies = [\"Tomato\", \"Squash\", \"Carrot\"]\n",
    "\n",
    "mixed = [fruits, veggies]\n",
    "\n",
    "max_length = max(len(fruits), len(veggies))\n",
    "\n",
    "for i in range(max_length):\n",
    "    fruit = fruits[i] if i < len(fruits) else \"N/A\"\n",
    "    veggie = veggies[i] if i < len(veggies) else \"N/A\"\n",
    "    print(fruit, veggie)"
   ]
  },
  {
   "cell_type": "markdown",
   "id": "bc2591d5-5981-4182-ad11-91a996ed4b83",
   "metadata": {},
   "source": [
    "# Additionally on for loops\n",
    "\n",
    "- the loop allows to execute the same line of code multiple times\n",
    "\n",
    "- inside the loop or if/else statement indentation is really important\n",
    "\n",
    "- Hence if indented at the begging it would only print once"
   ]
  },
  {
   "cell_type": "code",
   "execution_count": 10,
   "id": "3d459167-8524-48ca-aec6-47c1f8607cce",
   "metadata": {},
   "outputs": [
    {
     "name": "stdout",
     "output_type": "stream",
     "text": [
      "Apple\n",
      "ApplePie\n",
      "Peach\n",
      "PeachPie\n",
      "Pear\n",
      "PearPie\n",
      "Banana\n",
      "BananaPie\n",
      "Mango\n",
      "MangoPie\n",
      "Cream\n",
      "CreamPie\n",
      "CreamPie\n"
     ]
    }
   ],
   "source": [
    "fruits = [\"Apple\", \"Peach\", \"Pear\", 'Banana', 'Mango', 'Cream']\n",
    "# vaggies = [\"Tomato\", \"Squash\", \"Carrot\", 'Onion', 'Broccoli']\n",
    "# mixed = [fruits,veggies]\n",
    "\n",
    "for f in fruits:\n",
    "    print(f)\n",
    "    print(f + 'Pie')\n",
    "    \n",
    "print(f + 'Pie')"
   ]
  },
  {
   "cell_type": "markdown",
   "id": "50e87f89-2f59-4188-b6c9-7abc1a7a1b91",
   "metadata": {},
   "source": [
    "# Highest Score"
   ]
  },
  {
   "cell_type": "code",
   "execution_count": 18,
   "id": "f3f870f0-749c-4d03-90b8-538aab2b7c66",
   "metadata": {},
   "outputs": [
    {
     "ename": "TypeError",
     "evalue": "int() argument must be a string, a bytes-like object or a number, not 'list'",
     "output_type": "error",
     "traceback": [
      "\u001b[0;31m---------------------------------------------------------------------------\u001b[0m",
      "\u001b[0;31mTypeError\u001b[0m                                 Traceback (most recent call last)",
      "Input \u001b[0;32mIn [18]\u001b[0m, in \u001b[0;36m<cell line: 2>\u001b[0;34m()\u001b[0m\n\u001b[1;32m      1\u001b[0m student_scores \u001b[38;5;241m=\u001b[39m [\u001b[38;5;241m150\u001b[39m, \u001b[38;5;241m142\u001b[39m, \u001b[38;5;241m185\u001b[39m, \u001b[38;5;241m120\u001b[39m, \u001b[38;5;241m171\u001b[39m, \u001b[38;5;241m184\u001b[39m, \u001b[38;5;241m149\u001b[39m, \u001b[38;5;241m24\u001b[39m, \u001b[38;5;241m59\u001b[39m, \u001b[38;5;241m68\u001b[39m, \u001b[38;5;241m199\u001b[39m, \u001b[38;5;241m78\u001b[39m, \u001b[38;5;241m65\u001b[39m, \u001b[38;5;241m89\u001b[39m, \u001b[38;5;241m86\u001b[39m, \u001b[38;5;241m55\u001b[39m, \u001b[38;5;241m91\u001b[39m, \u001b[38;5;241m64\u001b[39m, \u001b[38;5;241m89\u001b[39m]\n\u001b[0;32m----> 2\u001b[0m total_score \u001b[38;5;241m=\u001b[39m \u001b[38;5;28msum\u001b[39m(\u001b[38;5;28;43mint\u001b[39;49m\u001b[43m(\u001b[49m\u001b[43mstudent_scores\u001b[49m\u001b[43m)\u001b[49m)\n\u001b[1;32m      4\u001b[0m \u001b[38;5;28msum\u001b[39m \u001b[38;5;241m=\u001b[39m \u001b[38;5;241m0\u001b[39m\n\u001b[1;32m      6\u001b[0m \u001b[38;5;28;01mfor\u001b[39;00m score \u001b[38;5;129;01min\u001b[39;00m student_scores:\n",
      "\u001b[0;31mTypeError\u001b[0m: int() argument must be a string, a bytes-like object or a number, not 'list'"
     ]
    }
   ],
   "source": [
    "student_scores = [150, 142, 185, 120, 171, 184, 149, 24, 59, 68, 199, 78, 65, 89, 86, 55, 91, 64, 89]\n",
    "total_score = int(sum(student_scores))\n",
    "\n",
    "sum = 0\n",
    "\n",
    "for score in student_scores:\n",
    "    sum += score\n",
    "\n",
    "print(sum)"
   ]
  },
  {
   "cell_type": "code",
   "execution_count": 22,
   "id": "76476a90-8f3d-476a-95a5-f204a4c1f7e5",
   "metadata": {},
   "outputs": [
    {
     "ename": "TypeError",
     "evalue": "'int' object is not callable",
     "output_type": "error",
     "traceback": [
      "\u001b[0;31m---------------------------------------------------------------------------\u001b[0m",
      "\u001b[0;31mTypeError\u001b[0m                                 Traceback (most recent call last)",
      "Input \u001b[0;32mIn [22]\u001b[0m, in \u001b[0;36m<cell line: 2>\u001b[0;34m()\u001b[0m\n\u001b[1;32m      1\u001b[0m student_scores \u001b[38;5;241m=\u001b[39m [\u001b[38;5;241m150\u001b[39m, \u001b[38;5;241m142\u001b[39m, \u001b[38;5;241m185\u001b[39m, \u001b[38;5;241m120\u001b[39m, \u001b[38;5;241m171\u001b[39m, \u001b[38;5;241m184\u001b[39m, \u001b[38;5;241m149\u001b[39m, \u001b[38;5;241m24\u001b[39m, \u001b[38;5;241m59\u001b[39m, \u001b[38;5;241m68\u001b[39m, \u001b[38;5;241m199\u001b[39m, \u001b[38;5;241m78\u001b[39m, \u001b[38;5;241m65\u001b[39m, \u001b[38;5;241m89\u001b[39m, \u001b[38;5;241m86\u001b[39m, \u001b[38;5;241m55\u001b[39m, \u001b[38;5;241m91\u001b[39m, \u001b[38;5;241m64\u001b[39m, \u001b[38;5;241m89\u001b[39m]\n\u001b[0;32m----> 2\u001b[0m max_score \u001b[38;5;241m=\u001b[39m \u001b[38;5;28;43mmax\u001b[39;49m\u001b[43m(\u001b[49m\u001b[43mstudent_scores\u001b[49m\u001b[43m)\u001b[49m\n\u001b[1;32m      4\u001b[0m max_score \u001b[38;5;241m=\u001b[39m \u001b[38;5;241m0\u001b[39m\n\u001b[1;32m      6\u001b[0m \u001b[38;5;28;01mfor\u001b[39;00m score \u001b[38;5;129;01min\u001b[39;00m student_scores:\n",
      "\u001b[0;31mTypeError\u001b[0m: 'int' object is not callable"
     ]
    }
   ],
   "source": [
    "student_scores = [150, 142, 185, 120, 171, 184, 149, 24, 59, 68, 199, 78, 65, 89, 86, 55, 91, 64, 89]\n",
    "max_score = max(student_scores)\n",
    "\n",
    "max_score = 0\n",
    "\n",
    "for score in student_scores:\n",
    "    if score > max_score:\n",
    "        max_score = score\n",
    "\n",
    "\n",
    "print(max_score)"
   ]
  },
  {
   "cell_type": "markdown",
   "id": "a6773667-435b-4e9f-be15-df46612d63fa",
   "metadata": {},
   "source": [
    "# However they both resulted in error when used in Jupyther but not in PyCharm"
   ]
  },
  {
   "cell_type": "code",
   "execution_count": null,
   "id": "ab024be5-3b8a-4dd5-9175-e5b507306b1c",
   "metadata": {},
   "outputs": [],
   "source": []
  },
  {
   "cell_type": "code",
   "execution_count": null,
   "id": "209ff597-80d9-481e-8188-5cf77134adc0",
   "metadata": {},
   "outputs": [],
   "source": []
  },
  {
   "cell_type": "code",
   "execution_count": null,
   "id": "1cb707de-544e-4035-9c37-5f872eaf9c3d",
   "metadata": {},
   "outputs": [],
   "source": []
  },
  {
   "cell_type": "code",
   "execution_count": null,
   "id": "aa84964d-8077-4bd2-b230-2c1e7472e228",
   "metadata": {},
   "outputs": [],
   "source": []
  },
  {
   "cell_type": "code",
   "execution_count": null,
   "id": "51318f53-6261-4a90-82e0-0891ca8a3c63",
   "metadata": {},
   "outputs": [],
   "source": []
  },
  {
   "cell_type": "code",
   "execution_count": null,
   "id": "3bf6a839-81a8-4652-b7ed-705994d0ff03",
   "metadata": {},
   "outputs": [],
   "source": []
  },
  {
   "cell_type": "code",
   "execution_count": null,
   "id": "9e1a5e14-8e4d-4a89-9cb2-aa2db79f54a9",
   "metadata": {},
   "outputs": [],
   "source": []
  },
  {
   "cell_type": "code",
   "execution_count": null,
   "id": "4b827288-2316-41d4-8e55-f76572abf1d8",
   "metadata": {},
   "outputs": [],
   "source": []
  },
  {
   "cell_type": "code",
   "execution_count": null,
   "id": "9da3144a-3376-485d-b14f-cd35f2c5fee8",
   "metadata": {},
   "outputs": [],
   "source": []
  },
  {
   "cell_type": "code",
   "execution_count": null,
   "id": "fd5fb6cb-e4b3-47eb-bd22-e3396b761aef",
   "metadata": {},
   "outputs": [],
   "source": []
  },
  {
   "cell_type": "code",
   "execution_count": null,
   "id": "2deede15-7581-4db0-b576-29f21815a47b",
   "metadata": {},
   "outputs": [],
   "source": []
  },
  {
   "cell_type": "code",
   "execution_count": null,
   "id": "b9150710-3447-400a-8b8a-4552c1a0e102",
   "metadata": {},
   "outputs": [],
   "source": []
  },
  {
   "cell_type": "code",
   "execution_count": null,
   "id": "cd79ad8c-857b-4179-a2c2-b9cd69daf180",
   "metadata": {},
   "outputs": [],
   "source": []
  },
  {
   "cell_type": "code",
   "execution_count": null,
   "id": "294690c0-60bb-47df-9f46-8c998f5895cc",
   "metadata": {},
   "outputs": [],
   "source": []
  },
  {
   "cell_type": "code",
   "execution_count": null,
   "id": "6760a30c-2a14-49c7-afcb-5ce0a2e761a3",
   "metadata": {},
   "outputs": [],
   "source": []
  },
  {
   "cell_type": "code",
   "execution_count": null,
   "id": "be1d84cb-44c4-4d53-9250-05ef552aab2e",
   "metadata": {},
   "outputs": [],
   "source": []
  },
  {
   "cell_type": "code",
   "execution_count": null,
   "id": "e03ecf37-48db-4a21-a317-4a770e43f3bf",
   "metadata": {},
   "outputs": [],
   "source": []
  },
  {
   "cell_type": "code",
   "execution_count": null,
   "id": "69c76f3a-8553-4cfe-8706-2456cc3dc176",
   "metadata": {},
   "outputs": [],
   "source": []
  },
  {
   "cell_type": "code",
   "execution_count": null,
   "id": "f671dd14-b32e-4688-8df4-6e76cfb0c68f",
   "metadata": {},
   "outputs": [],
   "source": []
  },
  {
   "cell_type": "code",
   "execution_count": null,
   "id": "b30e024f-3d34-462d-9117-04b1e2ceacad",
   "metadata": {},
   "outputs": [],
   "source": []
  },
  {
   "cell_type": "code",
   "execution_count": null,
   "id": "84416117-0505-44f6-868b-6d1e62068059",
   "metadata": {},
   "outputs": [],
   "source": []
  },
  {
   "cell_type": "code",
   "execution_count": null,
   "id": "f69ea4e1-404c-4195-816f-2597aaf0b3c1",
   "metadata": {},
   "outputs": [],
   "source": []
  },
  {
   "cell_type": "code",
   "execution_count": null,
   "id": "2463edff-1a02-43ee-9d5d-3a9551c4c2d6",
   "metadata": {},
   "outputs": [],
   "source": []
  },
  {
   "cell_type": "code",
   "execution_count": null,
   "id": "05d099c4-cc2d-4d38-b3ed-9b4eb6ba15e4",
   "metadata": {},
   "outputs": [],
   "source": []
  },
  {
   "cell_type": "code",
   "execution_count": null,
   "id": "c95b35e8-d135-4973-8b6c-e2066935075b",
   "metadata": {},
   "outputs": [],
   "source": []
  },
  {
   "cell_type": "code",
   "execution_count": null,
   "id": "e321a10a-a9fb-4749-82f0-947aba7acbe3",
   "metadata": {},
   "outputs": [],
   "source": []
  },
  {
   "cell_type": "code",
   "execution_count": null,
   "id": "7393bd50-38e7-49ca-bdfc-e2d5a537205d",
   "metadata": {},
   "outputs": [],
   "source": []
  },
  {
   "cell_type": "code",
   "execution_count": null,
   "id": "79119864-2d7b-4d94-b661-3fc78f46fe4b",
   "metadata": {},
   "outputs": [],
   "source": []
  },
  {
   "cell_type": "code",
   "execution_count": null,
   "id": "82509f63-a361-4a8e-a839-2fb0c553bd94",
   "metadata": {},
   "outputs": [],
   "source": []
  },
  {
   "cell_type": "code",
   "execution_count": null,
   "id": "d3944cd9-c2ab-4f67-b35b-43640c322d2a",
   "metadata": {},
   "outputs": [],
   "source": []
  },
  {
   "cell_type": "code",
   "execution_count": null,
   "id": "1814e1c3-6aff-428d-b729-f2f74f8abeb1",
   "metadata": {},
   "outputs": [],
   "source": []
  },
  {
   "cell_type": "code",
   "execution_count": null,
   "id": "e434e20d-08bd-4dd8-8e2f-3964f0652daa",
   "metadata": {},
   "outputs": [],
   "source": []
  },
  {
   "cell_type": "code",
   "execution_count": null,
   "id": "76695de3-3773-4362-b3b4-32e2dad1e6db",
   "metadata": {},
   "outputs": [],
   "source": []
  },
  {
   "cell_type": "code",
   "execution_count": null,
   "id": "9acd0ea7-a852-4eab-87f4-cd8fdc41c3a4",
   "metadata": {},
   "outputs": [],
   "source": []
  },
  {
   "cell_type": "code",
   "execution_count": null,
   "id": "8ad6e5c4-c791-4bea-9ccb-8b70f21d7f4b",
   "metadata": {},
   "outputs": [],
   "source": []
  },
  {
   "cell_type": "code",
   "execution_count": null,
   "id": "17a7a3ac-e578-4df3-910c-0f1c2a34acce",
   "metadata": {},
   "outputs": [],
   "source": []
  },
  {
   "cell_type": "code",
   "execution_count": null,
   "id": "f4dafdce-2272-450e-9cf6-8b9ad2953498",
   "metadata": {},
   "outputs": [],
   "source": []
  },
  {
   "cell_type": "code",
   "execution_count": null,
   "id": "fd300153-b5bc-40ae-a5e0-9adc7f4c82d8",
   "metadata": {},
   "outputs": [],
   "source": []
  },
  {
   "cell_type": "code",
   "execution_count": null,
   "id": "fb9543fa-caa9-4885-976e-4eee651e3726",
   "metadata": {},
   "outputs": [],
   "source": []
  },
  {
   "cell_type": "code",
   "execution_count": null,
   "id": "6ee96919-d07e-404e-bdc2-d570382b0d72",
   "metadata": {},
   "outputs": [],
   "source": []
  },
  {
   "cell_type": "code",
   "execution_count": null,
   "id": "0a417d73-0cfb-4898-bddc-6178d318806a",
   "metadata": {},
   "outputs": [],
   "source": []
  },
  {
   "cell_type": "code",
   "execution_count": null,
   "id": "5edc777e-5a1a-4e8d-a373-529e8a42afd0",
   "metadata": {},
   "outputs": [],
   "source": []
  },
  {
   "cell_type": "code",
   "execution_count": null,
   "id": "056e6dea-d7f6-4c1a-9c7a-cc1c1a18dd2e",
   "metadata": {},
   "outputs": [],
   "source": []
  },
  {
   "cell_type": "code",
   "execution_count": null,
   "id": "078769cc-168d-4e41-830f-3b7955cf3a62",
   "metadata": {},
   "outputs": [],
   "source": []
  },
  {
   "cell_type": "code",
   "execution_count": null,
   "id": "fb5f2d84-48ed-4392-8a4a-fa5a9632c929",
   "metadata": {},
   "outputs": [],
   "source": []
  },
  {
   "cell_type": "code",
   "execution_count": null,
   "id": "6c1d21a2-c206-46da-9409-4de8717cc196",
   "metadata": {},
   "outputs": [],
   "source": []
  }
 ],
 "metadata": {
  "kernelspec": {
   "display_name": "Python 3 (ipykernel)",
   "language": "python",
   "name": "python3"
  },
  "language_info": {
   "codemirror_mode": {
    "name": "ipython",
    "version": 3
   },
   "file_extension": ".py",
   "mimetype": "text/x-python",
   "name": "python",
   "nbconvert_exporter": "python",
   "pygments_lexer": "ipython3",
   "version": "3.9.12"
  }
 },
 "nbformat": 4,
 "nbformat_minor": 5
}
