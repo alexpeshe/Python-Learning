{
 "cells": [
  {
   "cell_type": "markdown",
   "id": "8dcbfb16-affe-4c5d-8ed1-6a87fc35476e",
   "metadata": {},
   "source": [
    "# Variables "
   ]
  },
  {
   "cell_type": "markdown",
   "id": "82b6655a-dae7-4341-bc8b-f3b424c31ac6",
   "metadata": {},
   "source": [
    "- Variables task\n",
    "\n",
    "We have 2 variables glass1 and glass2. glass1 contains milk and glass2 contains juice. Write 3 lines of code to switch the contents of the variables. You are not allowed to type the words \"milk\" or \"juice\". You are only allowed to use variables to solve this exercise."
   ]
  },
  {
   "cell_type": "code",
   "execution_count": 4,
   "id": "487381a6-5558-4d07-8e81-e2d3784f0ebe",
   "metadata": {},
   "outputs": [
    {
     "name": "stdout",
     "output_type": "stream",
     "text": [
      "juice milk\n"
     ]
    },
    {
     "data": {
      "text/plain": [
       "' switch = glass1\\nBy storing the contents of glass1 in the temp variable. We can now use the glass1 variable to store the contents of glass2\\nglass1 = glass2\\nFinally, we can put the contents in the temp variable into glass2.\\nglass2 = sitch\\n\\nTry it out with some physical glass cups!'"
      ]
     },
     "execution_count": 4,
     "metadata": {},
     "output_type": "execute_result"
    }
   ],
   "source": [
    "glass1 = \"milk\"\n",
    "glass2 = \"juice\"\n",
    "\n",
    "switch = glass1\n",
    "glass1 = glass2\n",
    "glass2 = switch\n",
    "\n",
    "print(glass1, glass2)\n",
    "\n",
    "# switch is a temporary variable\n",
    "\n",
    "''' If we have two physical glasses and we wanted to switch out the contents. We would need to grab an extra glass! \n",
    "So the solution is to create a temporary variable to store the contents from one glass. '''\n",
    "\n",
    "''' switch = glass1\n",
    "By storing the contents of glass1 in the temp variable. We can now use the glass1 variable to store the contents of glass2\n",
    "glass1 = glass2\n",
    "Finally, we can put the contents in the temp variable into glass2.\n",
    "glass2 = sitch\n",
    "\n",
    "Try it out with some physical glass cups!'''"
   ]
  },
  {
   "cell_type": "markdown",
   "id": "af59e240-0373-4f41-8fee-d5dbd6805526",
   "metadata": {},
   "source": [
    "# Day 1 project: Band name generator"
   ]
  },
  {
   "cell_type": "code",
   "execution_count": 2,
   "id": "f20f4767-e26c-410e-8d51-8001d4093418",
   "metadata": {},
   "outputs": [
    {
     "name": "stdout",
     "output_type": "stream",
     "text": [
      "Hello user\n"
     ]
    },
    {
     "name": "stdin",
     "output_type": "stream",
     "text": [
      "What is the name of the city you grew up in? Bristol\n",
      "What was your first pet? Cat\n"
     ]
    },
    {
     "name": "stdout",
     "output_type": "stream",
     "text": [
      "Your band name could be Bristol Cat\n"
     ]
    }
   ],
   "source": [
    "#line 2 contains a greetting for the user\n",
    "print(\"Hello user\")\n",
    "\n",
    "#Line 5 contains of the variable a which equals the input plus the \\n input cursor showing the answers for a and b on a new line\n",
    "a = input(\"What is the name of the city you grew up in?\")\n",
    "b = input(\"What was your first pet?\")\n",
    "\n",
    "#line 9 contains of the space and the suggested answer\n",
    "print(\"Your band name could be \" + a + \" \" + b)\n"
   ]
  },
  {
   "cell_type": "code",
   "execution_count": null,
   "id": "0051b7df-18e5-4b3c-86c3-47d0a98a0d96",
   "metadata": {},
   "outputs": [],
   "source": []
  }
 ],
 "metadata": {
  "kernelspec": {
   "display_name": "Python 3 (ipykernel)",
   "language": "python",
   "name": "python3"
  },
  "language_info": {
   "codemirror_mode": {
    "name": "ipython",
    "version": 3
   },
   "file_extension": ".py",
   "mimetype": "text/x-python",
   "name": "python",
   "nbconvert_exporter": "python",
   "pygments_lexer": "ipython3",
   "version": "3.9.12"
  }
 },
 "nbformat": 4,
 "nbformat_minor": 5
}
