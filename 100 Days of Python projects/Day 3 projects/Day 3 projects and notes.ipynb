{
 "cells": [
  {
   "cell_type": "markdown",
   "id": "cc8fbf1e-e7b4-4e40-b4d1-f62ce57b2913",
   "metadata": {},
   "source": [
    "# Day 3 Projects"
   ]
  },
  {
   "cell_type": "markdown",
   "id": "43faf886-5be4-4109-83d8-75a5958b4d13",
   "metadata": {},
   "source": [
    "# BMI 2.0"
   ]
  },
  {
   "cell_type": "code",
   "execution_count": 5,
   "id": "a54d0e35-13a3-48a0-8f96-97ae96d336c3",
   "metadata": {},
   "outputs": [
    {
     "name": "stdin",
     "output_type": "stream",
     "text": [
      "enter your height in m:  1.98\n",
      "enter your weight in kg:  108\n"
     ]
    },
    {
     "name": "stdout",
     "output_type": "stream",
     "text": [
      "You are slightly overweight\n",
      "27.548209366391184\n"
     ]
    }
   ],
   "source": [
    "height = float(input(\"enter your height in m: \"))\n",
    "weight = float(input(\"enter your weight in kg: \"))\n",
    "\n",
    "a = float(height)\n",
    "b = int(weight)\n",
    "\n",
    "BMI = (b / (a **2))\n",
    "bmi_as_int = int(BMI)\n",
    "\n",
    "if bmi_as_int < 18.5:\n",
    "  print(\"You are underweight\")\n",
    "elif bmi_as_int < 25:\n",
    "  print(\"You have normal weight\")\n",
    "elif bmi_as_int < 30:\n",
    "  print(\"You are slightly overweight\")\n",
    "elif bmi_as_int < 35:\n",
    " print(\"You are obsese\")\n",
    "else:\n",
    " print(\"You are very obese\")\n",
    "\n",
    "print(BMI)"
   ]
  },
  {
   "cell_type": "markdown",
   "id": "17ed2d9c-e997-4ffe-ae4b-906ed9925e64",
   "metadata": {},
   "source": [
    "# Leap year"
   ]
  },
  {
   "cell_type": "code",
   "execution_count": 9,
   "id": "b5e4f1ab-8a1e-45d0-b044-7b180b0f35d9",
   "metadata": {},
   "outputs": [
    {
     "name": "stdin",
     "output_type": "stream",
     "text": [
      "Which year do you want to check?  2025\n"
     ]
    },
    {
     "name": "stdout",
     "output_type": "stream",
     "text": [
      "Not Leap\n"
     ]
    },
    {
     "data": {
      "text/plain": [
       "'  #the tutor\\'s solution\\n\\n  if year % 4 == 0:\\n  if year % 100 == 0:\\n    if year % 400 == 0:\\n      print(\"Leap year.\")\\n    else:\\n      print(\"Not leap year.\")\\n  else:\\n    print(\"Leap year.\")\\nelse:\\n  print(\"Not leap year.\")\\n\\n  #where she decided to use more if functions as part of one block to ditermine the type of year.'"
      ]
     },
     "execution_count": 9,
     "metadata": {},
     "output_type": "execute_result"
    }
   ],
   "source": [
    "# 🚨 Don't change the code below 👇\n",
    "year = int(input(\"Which year do you want to check? \"))\n",
    "# 🚨 Don't change the code above 👆\n",
    "\n",
    "#Write your code below this line 👇\n",
    "\n",
    "if year % 4 == 0:\n",
    "    print(\"Leap\")\n",
    "elif year % 100 == 0:\n",
    "    print(\"Leap\")\n",
    "elif year % 400 == 0:\n",
    "    print(\"Leap\")\n",
    "else:\n",
    "    print(\"Not Leap\")\n",
    "\n",
    "'''  #the tutor's solution\n",
    "\n",
    "  if year % 4 == 0:\n",
    "  if year % 100 == 0:\n",
    "    if year % 400 == 0:\n",
    "      print(\"Leap year.\")\n",
    "    else:\n",
    "      print(\"Not leap year.\")\n",
    "  else:\n",
    "    print(\"Leap year.\")\n",
    "else:\n",
    "  print(\"Not leap year.\")\n",
    "\n",
    "  #where she decided to use more if functions as part of one block to ditermine the type of year.'''\n",
    "  "
   ]
  },
  {
   "cell_type": "markdown",
   "id": "53048ae9-183b-4334-a3d9-c89f4c67ec0e",
   "metadata": {},
   "source": [
    "# Pizza Ordering"
   ]
  },
  {
   "cell_type": "code",
   "execution_count": 10,
   "id": "0dda11b0-7a03-4f36-bf76-d92f9a5f665b",
   "metadata": {},
   "outputs": [
    {
     "name": "stdout",
     "output_type": "stream",
     "text": [
      "Welcome to Python Pizza Deliveries!\n"
     ]
    },
    {
     "name": "stdin",
     "output_type": "stream",
     "text": [
      "What size pizza do you want? S, M, or L  M\n",
      "Do you want pepperoni? Y or N  N\n",
      "Do you want extra cheese? Y or N  Y\n"
     ]
    },
    {
     "name": "stdout",
     "output_type": "stream",
     "text": [
      "Yor bill is $ 21\n"
     ]
    }
   ],
   "source": [
    "# 🚨 Don't change the code below 👇\n",
    "print(\"Welcome to Python Pizza Deliveries!\")\n",
    "size = input(\"What size pizza do you want? S, M, or L \")\n",
    "add_pepperoni = input(\"Do you want pepperoni? Y or N \")\n",
    "extra_cheese = input(\"Do you want extra cheese? Y or N \")\n",
    "\n",
    "# 🚨 Don't change the code above 👆\n",
    "\n",
    "#Write your code below this line 👇\n",
    "\n",
    "bill = 0\n",
    "\n",
    "if size == \"S\":\n",
    "  bill += 15\n",
    "elif size == \"M\":\n",
    "  bill += 20\n",
    "else:\n",
    "  bill +=25\n",
    "#the else statement at the end of this block isn't really needed, if it's easeier to read it can be replaced by elif\n",
    "if add_pepperoni == \"Y\":\n",
    "  if size == \"S\":\n",
    "    bill += 2\n",
    "  else:\n",
    "    bill +=3\n",
    "\n",
    "if extra_cheese == \"Y\":\n",
    "  bill += 1\n",
    "\n",
    "print(f\"Yor bill is $ {bill}\")\n",
    "# do not forget to use the f before the string  \n",
    "  \n",
    "\n"
   ]
  },
  {
   "cell_type": "markdown",
   "id": "53853ea8-ba29-4dcf-ba15-9011c58d3cf2",
   "metadata": {},
   "source": [
    "# Odd vs Even"
   ]
  },
  {
   "cell_type": "code",
   "execution_count": 11,
   "id": "8a6dc85e-f056-4860-9395-d9694297ef4a",
   "metadata": {},
   "outputs": [
    {
     "name": "stdin",
     "output_type": "stream",
     "text": [
      "Which number do you want to check?  3\n"
     ]
    },
    {
     "name": "stdout",
     "output_type": "stream",
     "text": [
      "It's an odd one\n"
     ]
    }
   ],
   "source": [
    "# 🚨 Don't change the code below 👇\n",
    "number = int(input(\"Which number do you want to check? \"))\n",
    "# 🚨 Don't change the code above 👆\n",
    "\n",
    "#Write your code below this line 👇\n",
    "if number % 2 == 0:\n",
    "    print(\"It's an even number\")\n",
    "else: \n",
    "    print(\"It's an odd one\")\n",
    "\n",
    "#in order to achive this task one must use the (modulo) % 2 which means that even numbers are divided by 2\n"
   ]
  },
  {
   "cell_type": "markdown",
   "id": "e36c26a2-c907-41a1-b217-c15ff6429d18",
   "metadata": {},
   "source": [
    "# Roller Coaster"
   ]
  },
  {
   "cell_type": "code",
   "execution_count": 12,
   "id": "f8bca604-f1d3-458c-bf54-c1e120fc1520",
   "metadata": {},
   "outputs": [
    {
     "name": "stdout",
     "output_type": "stream",
     "text": [
      "Welcome to the rollercoaster\n"
     ]
    },
    {
     "name": "stdin",
     "output_type": "stream",
     "text": [
      "What is your height in cm?  198\n"
     ]
    },
    {
     "name": "stdout",
     "output_type": "stream",
     "text": [
      "You can ride on the rollercoaster\n"
     ]
    },
    {
     "name": "stdin",
     "output_type": "stream",
     "text": [
      "What is your age?  33\n"
     ]
    },
    {
     "name": "stdout",
     "output_type": "stream",
     "text": [
      "Adult ticket is: $12\n"
     ]
    },
    {
     "name": "stdin",
     "output_type": "stream",
     "text": [
      "Do you want a photo taken? Y or N  N\n"
     ]
    },
    {
     "name": "stdout",
     "output_type": "stream",
     "text": [
      "Your final bill is 12\n"
     ]
    }
   ],
   "source": [
    "print(\"Welcome to the rollercoaster\")\n",
    "height = int(input(\"What is your height in cm? \"))\n",
    "bill = 0\n",
    "#the height's number has to be inputed as integer\n",
    "# in order to add aditional money to their ticket we create a new value of bill = 0 \n",
    "if height >= 120:\n",
    "  print(\"You can ride on the rollercoaster\")\n",
    "  age = int(input(\"What is your age? \"))\n",
    "  if age < 12:\n",
    "    bill = 5\n",
    "    print(\"Child ticket is: $5\")\n",
    "  elif age <= 18:\n",
    "    bill = 7\n",
    "    print(\"Youth ticket is: $7\")\n",
    "  elif age >= 45 and age <= 50:\n",
    "    print(\"Everything is gonna be okay. Have a free ride on us.\")\n",
    "    #in order to achive this we use the and statement where both conditions need to be true.\n",
    "  else: \n",
    "    bill = 12\n",
    "    print(\"Adult ticket is: $12\")\n",
    "\n",
    "  wants_photo = input(\"Do you want a photo taken? Y or N \")\n",
    "  if wants_photo == \"Y\":\n",
    "    bill += 3\n",
    "  # this is the shorter way of writing this type of addition to the bill instead of bill = bill + 3\n",
    "# it is also important to note that all the lines from 6 to 21 are part of the same block\n",
    "  print(f\"Your final bill is {bill}\")\n",
    "\n",
    "else: \n",
    "  print(\"Sorry you'll have to grow up before you can ride.\")\n",
    "\n",
    "#when inserting the if and else functions the print functions underneath must be written with two indented spaces infron of them. In order for this code to work indentation matters most!!"
   ]
  },
  {
   "cell_type": "markdown",
   "id": "7786a17d-e398-4cbf-8afa-3b5f023ee681",
   "metadata": {},
   "source": [
    "# Treasure Island "
   ]
  },
  {
   "cell_type": "code",
   "execution_count": 14,
   "id": "894ab179-1bb4-4258-ad59-f9bdd0828306",
   "metadata": {},
   "outputs": [
    {
     "name": "stdout",
     "output_type": "stream",
     "text": [
      "\n",
      "*******************************************************************************\n",
      "          |                   |                  |                     |\n",
      " _________|________________.=\"\"_;=.______________|_____________________|_______\n",
      "|                   |  ,-\"_,=\"\"     `\"=.|                  |\n",
      "|___________________|__\"=._o`\"-._        `\"=.______________|___________________\n",
      "          |                `\"=._o`\"=._      _`\"=._                     |\n",
      " _________|_____________________:=._o \"=._.\"_.-=\"'\"=.__________________|_______\n",
      "|                   |    __.--\" , ; `\"=._o.\" ,-\"\"\"-._ \".   |\n",
      "|___________________|_._\"  ,. .` ` `` ,  `\"-._\"-._   \". '__|___________________\n",
      "          |           |o`\"=._` , \"` `; .\". ,  \"-._\"-._; ;              |\n",
      " _________|___________| ;`-.o`\"=._; .\" ` '`.\"\\` . \"-._ /_______________|_______\n",
      "|                   | |o;    `\"-.o`\"=._``  '` \" ,__.--o;   |\n",
      "|___________________|_| ;     (#) `-.o `\"=.`_.--\"_o.-; ;___|___________________\n",
      "____/______/______/___|o;._    \"      `\".o|o_.--\"    ;o;____/______/______/____\n",
      "/______/______/______/_\"=._o--._        ; | ;        ; ;/______/______/______/_\n",
      "____/______/______/______/__\"=._o--._   ;o|o;     _._;o;____/______/______/____\n",
      "/______/______/______/______/____\"=._o._; | ;_.--\"o.--\"_/______/______/______/_\n",
      "____/______/______/______/______/_____\"=.o|o_.--\"\"___/______/______/______/____\n",
      "/______/______/______/______/______/______/______/______/______/______/_____ /\n",
      "*******************************************************************************\n",
      "\n",
      "Welcome to the Trasure Island!\n",
      "Your mission is to find the treasure!!!\n"
     ]
    },
    {
     "name": "stdin",
     "output_type": "stream",
     "text": [
      "You are at a cross road. You have an important choice ahead of you? Type \"left\" or \"right\"  left\n",
      "You come to a lake. There is an island in the middle of the lake. Type \"wait\" to wait for a boat. Type \"swim\" to swim across  wait\n",
      "You arrive at the island unharmed. There is a castle with 3 doors. First one is red, the second yellow and the last is blue. Which door do you choose? Type \"red\", \"yellow\" or \"blue\"  yellow\n"
     ]
    },
    {
     "name": "stdout",
     "output_type": "stream",
     "text": [
      "You Win!\n"
     ]
    },
    {
     "data": {
      "text/plain": [
       "\"print(input('Where do you go? Left or Right?: ')\\n\\tif choice1 == Right:\\n\\t\\tprint('Very sad, Game Over!)\\n\\telif choice2 == Left:\\n\\t\\tprint('Very good, you may continue)\\n\\nprint(input('Do you Swim or Wait?: ')\\n\\tif choice3 == 'Swim':\\n\\t\\tprint('Too bad, you get eaten by a shark!)\\n\\telif choice4 == 'Wait':\\nprint('Very nice, you may continue to the doors')\\n\\nprint(input('Which door do you pick?:') \\n\\tif choice 5 == 'Yellow':\\n\\t\\tprint('You found the treasure')\\n\\telif choice6 == 'Red':\\n\\t\\tprint('So sad, Game Over!')\\n\\telse:\\n\\t\\tprint('Wrong again! Game Over!!!') \""
      ]
     },
     "execution_count": 14,
     "metadata": {},
     "output_type": "execute_result"
    }
   ],
   "source": [
    "print('''\n",
    "*******************************************************************************\n",
    "          |                   |                  |                     |\n",
    " _________|________________.=\"\"_;=.______________|_____________________|_______\n",
    "|                   |  ,-\"_,=\"\"     `\"=.|                  |\n",
    "|___________________|__\"=._o`\"-._        `\"=.______________|___________________\n",
    "          |                `\"=._o`\"=._      _`\"=._                     |\n",
    " _________|_____________________:=._o \"=._.\"_.-=\"'\"=.__________________|_______\n",
    "|                   |    __.--\" , ; `\"=._o.\" ,-\"\"\"-._ \".   |\n",
    "|___________________|_._\"  ,. .` ` `` ,  `\"-._\"-._   \". '__|___________________\n",
    "          |           |o`\"=._` , \"` `; .\". ,  \"-._\"-._; ;              |\n",
    " _________|___________| ;`-.o`\"=._; .\" ` '`.\"\\` . \"-._ /_______________|_______\n",
    "|                   | |o;    `\"-.o`\"=._``  '` \" ,__.--o;   |\n",
    "|___________________|_| ;     (#) `-.o `\"=.`_.--\"_o.-; ;___|___________________\n",
    "____/______/______/___|o;._    \"      `\".o|o_.--\"    ;o;____/______/______/____\n",
    "/______/______/______/_\"=._o--._        ; | ;        ; ;/______/______/______/_\n",
    "____/______/______/______/__\"=._o--._   ;o|o;     _._;o;____/______/______/____\n",
    "/______/______/______/______/____\"=._o._; | ;_.--\"o.--\"_/______/______/______/_\n",
    "____/______/______/______/______/_____\"=.o|o_.--\"\"___/______/______/______/____\n",
    "/______/______/______/______/______/______/______/______/______/______/_____ /\n",
    "*******************************************************************************\n",
    "''')\n",
    "print('Welcome to the Trasure Island!')\n",
    "print('Your mission is to find the treasure!!!')\n",
    "\n",
    "#Check this link: https://medium.com/paul-zhao-projects/python-100-projects-in-100-days-learning-journal-17c913e5a6f9\n",
    "\n",
    "\n",
    "#https://www.draw.io/?lightbox=1&highlight=0000ff&edit=_blank&layers=1&nav=1&title=Treasure%20Island%20Conditional.drawio#Uhttps%3A%2F%2Fdrive.google.com%2Fuc%3Fid%3D1oDe4ehjWZipYRsVfeAx2HyB7LCQ8_Fvi%26export%3Ddownload\n",
    "\n",
    "#Write your code below this line 👇\n",
    "\n",
    "choice1 = input('You are at a cross road. You have an important choice ahead of you? Type \"left\" or \"right\" ')\n",
    "choice1_lowercase = choice1.lower()\n",
    "# It is very important to use the input() functionin order to be able to execute the player's answer\n",
    "# The second important thing to be taken is the use of the .lower() ( question.lower()) function in order to make the code accept any type of answer e.g. Left/Left/LEFT etc. Also the questions to be asked in the game can be simply inputed as question1 or anything for it to matter followed by the input function. \n",
    "if choice1_lowercase == \"left\":\n",
    "  choice2 = input('You come to a lake. There is an island in the middle of the lake. Type \"wait\" to wait for a boat. Type \"swim\" to swim across ')\n",
    "  choice2_lowercase = choice2.lower()\n",
    "  if choice2_lowercase == \"wait\":\n",
    "   choice3 = input('You arrive at the island unharmed. There is a castle with 3 doors. First one is red, the second yellow and the last is blue. Which door do you choose? Type \"red\", \"yellow\" or \"blue\" ')\n",
    "   choice3_lowercase = choice3.lower()\n",
    "   if choice3_lowercase == \"yellow\":\n",
    "      print(\"You Win!\")\n",
    "   else:\n",
    "      print(\"Game Over.\")\n",
    "  else:\n",
    "    print(\"Game Over.\")\n",
    "else:\n",
    "  print(\"Game Over.\")\n",
    "\n",
    "\n",
    "# another important thing to take a note of is the logical flow!\n",
    "# in thos case the first question wraps up the other two, where they become more indented the further you expand.\n",
    "\n",
    "\n",
    "  \n",
    "# With my original code it was wrong to combine print and input functions \n",
    "# Secondly, I didn't start correctly with choice1/2/3 = input() followed by choice = choice.lower()\n",
    "# in regard to the blocks of code, it was wrong trying to separate them like I did here check the proper code below.\n",
    "'''print(input('Where do you go? Left or Right?: ')\n",
    "\tif choice1 == Right:\n",
    "\t\tprint('Very sad, Game Over!)\n",
    "\telif choice2 == Left:\n",
    "\t\tprint('Very good, you may continue)\n",
    "\n",
    "print(input('Do you Swim or Wait?: ')\n",
    "\tif choice3 == 'Swim':\n",
    "\t\tprint('Too bad, you get eaten by a shark!)\n",
    "\telif choice4 == 'Wait':\n",
    "print('Very nice, you may continue to the doors')\n",
    "\n",
    "print(input('Which door do you pick?:') \n",
    "\tif choice 5 == 'Yellow':\n",
    "\t\tprint('You found the treasure')\n",
    "\telif choice6 == 'Red':\n",
    "\t\tprint('So sad, Game Over!')\n",
    "\telse:\n",
    "\t\tprint('Wrong again! Game Over!!!') '''\n",
    "\n"
   ]
  },
  {
   "cell_type": "markdown",
   "id": "90db99b2-81ec-447d-b404-56dbeda139e2",
   "metadata": {},
   "source": [
    "# End"
   ]
  }
 ],
 "metadata": {
  "kernelspec": {
   "display_name": "Python 3 (ipykernel)",
   "language": "python",
   "name": "python3"
  },
  "language_info": {
   "codemirror_mode": {
    "name": "ipython",
    "version": 3
   },
   "file_extension": ".py",
   "mimetype": "text/x-python",
   "name": "python",
   "nbconvert_exporter": "python",
   "pygments_lexer": "ipython3",
   "version": "3.9.12"
  }
 },
 "nbformat": 4,
 "nbformat_minor": 5
}
