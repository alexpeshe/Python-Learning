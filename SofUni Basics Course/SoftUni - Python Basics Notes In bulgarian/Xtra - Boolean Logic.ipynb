{
 "cells": [
  {
   "cell_type": "markdown",
   "id": "71e30183-8db4-4fa1-bb91-7d48dd496c53",
   "metadata": {},
   "source": [
    "# Boolean Logic <> Много Важна Концепция!"
   ]
  },
  {
   "cell_type": "markdown",
   "id": "c019b0db-66c2-4f3c-af5c-6d32e4b83947",
   "metadata": {},
   "source": [
    "# 1. What is Boolean Logic?\n",
    "\n",
    "Boolean logic deals with True or False values. These are the only two values a Boolean (bool) data type can have. It’s used to check conditions and decide which part of the code should run.\n",
    "\n",
    "In Python, True and False are keywords, and they represent the two boolean values."
   ]
  },
  {
   "cell_type": "markdown",
   "id": "9fd51b72-c467-4bb5-9ab8-be63cc545853",
   "metadata": {},
   "source": [
    "# 2. Comparison Operators\n",
    "\n",
    "To work with boolean values, we often need comparison operators to compare values. The result is always either True or False. Here are the common comparison operators:"
   ]
  },
  {
   "cell_type": "raw",
   "id": "d9db58b6-ccda-442b-bab4-1553bc0c1501",
   "metadata": {},
   "source": [
    "Example\n",
    "\n",
    "==  equal to               5 == 5 -> True\n",
    "\n",
    "!=  not eaqual to          5 != 3 -> True\n",
    "\n",
    ">   Greater than           6 > 2 -> True  \n",
    "\n",
    "<   Less than              3 < 5 -> True\n",
    "\n",
    "=> Equal or Greater than   4 >= 4 -> True \n",
    "\n",
    "<= Equal or Less than      2 <= 3 -> True\n"
   ]
  },
  {
   "cell_type": "markdown",
   "id": "fd844b2d-5f47-447d-84f1-383d0921df36",
   "metadata": {},
   "source": [
    "These comparisons evaluate to True or False. You can assign them to variables or use them in conditional statements.\n",
    "\n"
   ]
  },
  {
   "cell_type": "markdown",
   "id": "5f7f2ce9-fc95-4657-b241-d3adfefb5e15",
   "metadata": {},
   "source": [
    "# 3. Logical Operators\n",
    "\n",
    "Logical operators combine boolean values (or expressions) and return a True or False result.\n",
    "\n",
    "and: True if both conditions are true.\n",
    "\n",
    "True and True   # True\n",
    "\n",
    "True and False  # False\n",
    "\n",
    "\n",
    "or: True if either condition is true.\n",
    "\n",
    "True or False   # True\n",
    "\n",
    "False or False  # False\n",
    "\n",
    "not: Reverses the result; it makes a True condition False and vice versa.\n",
    "\n",
    "not True   # False\n",
    "\n",
    "not False  # True\n"
   ]
  },
  {
   "cell_type": "markdown",
   "id": "98822254-5f6c-43e1-8f8d-45affb8ac791",
   "metadata": {},
   "source": [
    "# 4. Combining Comparisons\n",
    "\n",
    "You can combine multiple comparisons with logical operators to check more complex conditions."
   ]
  },
  {
   "cell_type": "code",
   "execution_count": 6,
   "id": "5eddb98f-3738-4b83-beea-3d685322a731",
   "metadata": {},
   "outputs": [
    {
     "name": "stdout",
     "output_type": "stream",
     "text": [
      "Eligible for the loan\n"
     ]
    }
   ],
   "source": [
    "age = 25\n",
    "income = 60000\n",
    "\n",
    "if age > 18 and income > 30000:\n",
    "    print(\"Eligible for the loan\")\n"
   ]
  },
  {
   "cell_type": "markdown",
   "id": "7e518ba3-a705-483c-8fb0-4de41b76267c",
   "metadata": {},
   "source": [
    "# 5. Truthy and Falsy Values\n",
    "\n",
    "In Python, certain values are considered \"truthy\" (evaluate to True) and \"falsy\" (evaluate to False) when used in a boolean context, even if they aren’t explicitly True or False.\n",
    "\n",
    "Falsy values: 0, None, False, \"\" (empty string), [] (empty list), {} (empty dictionary).\n",
    "\n",
    "Truthy values: Non-zero numbers, non-empty strings, lists, dictionaries, etc.\n"
   ]
  },
  {
   "cell_type": "code",
   "execution_count": 7,
   "id": "0001d553-4403-4dac-8672-793705689f6a",
   "metadata": {},
   "outputs": [
    {
     "name": "stdout",
     "output_type": "stream",
     "text": [
      "This will print\n"
     ]
    }
   ],
   "source": [
    "if 0:\n",
    "    print(\"This won't print\")  # 0 is falsy\n",
    "\n",
    "if 42:\n",
    "    print(\"This will print\")  # Non-zero numbers are truthy\n"
   ]
  },
  {
   "cell_type": "markdown",
   "id": "5ca2c6ff-4fa5-404d-83e6-962011ca2d5a",
   "metadata": {},
   "source": [
    "# 6. Boolean Functions\n",
    "\n",
    "You can convert values into boolean using the bool() function:"
   ]
  },
  {
   "cell_type": "raw",
   "id": "aee91c88-aec7-48e1-a550-5176529ef274",
   "metadata": {},
   "source": [
    "bool(0)      # False\n",
    "bool(123)    # True\n",
    "bool(\"\")     # False\n",
    "bool(\"Hello\")# True\n"
   ]
  },
  {
   "cell_type": "markdown",
   "id": "7993cdde-e3b1-46aa-8f02-62f6fc8010b2",
   "metadata": {},
   "source": [
    "# 7. Conditionals with Boolean Logic\n",
    "\n",
    "Booleans are essential in if-else structures where you check conditions and execute code accordingly:"
   ]
  },
  {
   "cell_type": "code",
   "execution_count": 8,
   "id": "9a0d97db-978f-48fa-9c18-22e1057956b4",
   "metadata": {},
   "outputs": [
    {
     "name": "stdout",
     "output_type": "stream",
     "text": [
      "It's hot!\n"
     ]
    }
   ],
   "source": [
    "temperature = 30\n",
    "\n",
    "if temperature > 25:\n",
    "    print(\"It's hot!\")\n",
    "else:\n",
    "    print(\"It's cold!\")\n"
   ]
  },
  {
   "cell_type": "markdown",
   "id": "30976e7e-c1b4-403e-be74-a1e92343fbf8",
   "metadata": {},
   "source": [
    "Python checks the condition (temperature > 25). If it’s True, it runs the first block of code, otherwise, it runs the else block.\n",
    "\n"
   ]
  },
  {
   "cell_type": "markdown",
   "id": "0f2c8f24-faf8-45e1-917b-77d888728fdb",
   "metadata": {},
   "source": [
    "# Things to Keep in Mind:\n",
    "\n",
    "Order of operations: Logical operators follow the same precedence rules as math. not is evaluated first, followed by and, and then or. Use parentheses to control the order:"
   ]
  },
  {
   "cell_type": "markdown",
   "id": "7e762028-81d9-401b-9545-23ec16531ed5",
   "metadata": {},
   "source": [
    "True or False and False  # evaluates as: True\n",
    "\n",
    "(True or False) and False  # evaluates as: False\n"
   ]
  },
  {
   "cell_type": "markdown",
   "id": "48f6580d-e449-41a5-b3d1-ef8974975fd5",
   "metadata": {},
   "source": [
    "Use == for comparisons, not =: = is for assignment, so to compare two values, always use ==.\n",
    "\n",
    "Booleans in loops: You can use boolean logic in loops like while to control when the loop stops.\n",
    "\n",
    "Short-circuiting: In expressions like True or False, Python doesn’t even evaluate the second part because it knows the result will be True (since or needs only one True). Similarly, for and, if the first condition is False, it won’t check the second one."
   ]
  },
  {
   "cell_type": "code",
   "execution_count": 9,
   "id": "1b9c1fb1-9fe9-4176-993d-ed296983705a",
   "metadata": {},
   "outputs": [
    {
     "name": "stdout",
     "output_type": "stream",
     "text": [
      "Pesho\n"
     ]
    }
   ],
   "source": [
    "# Case sensitive example\n",
    "\n",
    "if 'caseSensitive' == 'CaseSensitive':\n",
    "    print('Stamat')\n",
    "else:\n",
    "    print('Pesho')"
   ]
  },
  {
   "cell_type": "raw",
   "id": "1a90a6c6-83bb-4b65-af01-5f3545617b0d",
   "metadata": {},
   "source": [
    "Programming languages are case sensitive so Go to ASCII table\n",
    "\n",
    "https://www.ascii-code.com/"
   ]
  },
  {
   "cell_type": "markdown",
   "id": "07c10842-8ec0-4dc4-85d2-8c0e81e47d4c",
   "metadata": {},
   "source": [
    "# End "
   ]
  }
 ],
 "metadata": {
  "kernelspec": {
   "display_name": "Python 3 (ipykernel)",
   "language": "python",
   "name": "python3"
  },
  "language_info": {
   "codemirror_mode": {
    "name": "ipython",
    "version": 3
   },
   "file_extension": ".py",
   "mimetype": "text/x-python",
   "name": "python",
   "nbconvert_exporter": "python",
   "pygments_lexer": "ipython3",
   "version": "3.9.12"
  }
 },
 "nbformat": 4,
 "nbformat_minor": 5
}
