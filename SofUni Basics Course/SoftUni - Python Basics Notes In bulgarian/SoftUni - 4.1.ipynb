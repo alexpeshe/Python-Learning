{
 "cells": [
  {
   "cell_type": "markdown",
   "id": "9dc834f4-9f05-4e3c-bd5b-bf4342e5935c",
   "metadata": {},
   "source": [
    "# Глава 4.1. По-сложни проверки"
   ]
  },
  {
   "cell_type": "markdown",
   "id": "64b8179f-5eb3-4ac2-a1cc-2f50c143c0f0",
   "metadata": {},
   "source": [
    "В настоящата глава ще разгледаме вложените проверки в езика Python, чрез които нашата програма може да съдържа условни конструкции, в които има вложени други условни конструкции. Наричаме ги \"вложени\", защото поставяме if конструкция в друга if конструкция. Ще разгледаме и по-сложни логически условия с подходящи примери.\n",
    "\n"
   ]
  },
  {
   "cell_type": "markdown",
   "id": "990351c3-499b-44a3-b46b-c893a0656e86",
   "metadata": {},
   "source": [
    "# Вложени проверки\n"
   ]
  },
  {
   "cell_type": "markdown",
   "id": "2f1fddd6-ac7d-4093-ac03-cbd9be6b1dd2",
   "metadata": {},
   "source": [
    "Доста често програмната логика налага използването на if или if-else конструкции, които се съдържат една в друга. Те биват наричани вложени if или if-else конструкции. Както се подразбира от названието \"вложени\", това са if или if-else конструкции, които са поставени в други if или else конструкции.\n",
    "\n"
   ]
  },
  {
   "cell_type": "raw",
   "id": "702dcf69-fede-4988-8b35-de96874443ad",
   "metadata": {},
   "source": [
    "if condition1:\n",
    "    if condition2:\n",
    "        # тяло\n",
    "    else:\n",
    "        # тяло"
   ]
  },
  {
   "cell_type": "markdown",
   "id": "49e06263-0c4c-49ff-aa6b-b38c8902b2e4",
   "metadata": {},
   "source": [
    "Влагането на повече от три условни конструкции една в друга не се счита за добра практика и трябва да се избягва, най-вече чрез оптимизиране на структурата/алгоритъма на кода и/или чрез използването на друг вид условна конструкция, който ще разгледаме по-надолу в тази глава.\n",
    "\n"
   ]
  },
  {
   "cell_type": "raw",
   "id": "dab8c595-f490-4458-9fb2-73276f880fbc",
   "metadata": {},
   "source": [
    "if conditionion1:\n",
    "    print( 'condition1 valid') > Табулацията трябва да се спазва\n",
    "    if condition2:\n",
    "        print( 'condition2 valid') > Същото от горе успоменатото важи и за всеки нов иф\n",
    "    else:\n",
    "        print( 'condition2 not valid')"
   ]
  },
  {
   "cell_type": "markdown",
   "id": "e3c0177d-d855-4a25-8533-a9e0117d0731",
   "metadata": {},
   "source": [
    "• Само при изпълнение на првото условие се преминава към вложената проверка"
   ]
  },
  {
   "cell_type": "markdown",
   "id": "d1d528ef-8fc8-4cbf-91e6-5539ea5a6b74",
   "metadata": {},
   "source": [
    "# Пример: обръщение според възраст и пол\n"
   ]
  },
  {
   "cell_type": "markdown",
   "id": "a22b1c43-a4f9-412a-885d-4d9b883fca45",
   "metadata": {},
   "source": [
    "- Според въведени възраст (десетично число) и пол (m / f) да се отпечата обръщение:\n",
    "\n",
    "“Mr.” – мъж (пол “m”) на 16 или повече години.\n",
    "\n",
    "“Master” – момче (пол “m”) под 16 години.\n",
    "\n",
    "“Ms.” – жена (пол “f”) на 16 или повече години.\n",
    "\n",
    "“Miss” – момиче (пол “f”) под 16 години.\n"
   ]
  },
  {
   "cell_type": "markdown",
   "id": "ab91400b-88ea-43c6-ae69-a8aef549299b",
   "metadata": {},
   "source": [
    "Решение\n",
    "Можем да забележим, че изходът на програмата зависи от няколко неща. Първо трябва да проверим какъв пол е въведен и после да проверим възрастта. Съответно ще използваме няколко if-else блока. Тези блокове ще бъдат вложени, т.е. от резултата на първия ще се определи кои от другите да се изпълни:"
   ]
  },
  {
   "cell_type": "markdown",
   "id": "4ce9a8fc-580c-4b60-89d6-6aaa3d73eb13",
   "metadata": {},
   "source": [
    "След прочитане на входните данни от конзолата ще трябва да се изпълни следната примерна програмна логика:\n",
    "\n"
   ]
  },
  {
   "cell_type": "code",
   "execution_count": 4,
   "id": "cd436f2c-2d74-4e9f-a271-e46bda431bfe",
   "metadata": {},
   "outputs": [
    {
     "name": "stdin",
     "output_type": "stream",
     "text": [
      " 12\n",
      " m\n"
     ]
    },
    {
     "name": "stdout",
     "output_type": "stream",
     "text": [
      "Master\n"
     ]
    }
   ],
   "source": [
    "age = float (input ())\n",
    "gender = str (input ())\n",
    "\n",
    "if age < 16:\n",
    "    if gender == 'm':\n",
    "        print ('Master')\n",
    "    elif gender == 'f':\n",
    "        print ('Miss')\n",
    "else:\n",
    "    if gender == 'm':\n",
    "        print ('Mr.')\n",
    "    elif gender == 'f':\n",
    "        print ('Ms. ')"
   ]
  },
  {
   "cell_type": "markdown",
   "id": "a7d75e4f-3c33-47b2-a524-9e6c883ffa43",
   "metadata": {},
   "source": [
    "Алтернативното решение би било"
   ]
  },
  {
   "cell_type": "code",
   "execution_count": null,
   "id": "0b7b6d4f-4992-46cc-a68d-a5c3adea1ef7",
   "metadata": {},
   "outputs": [],
   "source": [
    "age = float(input())\n",
    "gender = input()\n",
    "\n",
    "if  gender == 'f': #if not gender == \n",
    "    if age < 16:\n",
    "        print('Miss')\n",
    "    else:\n",
    "        print('Ms.')\n",
    "elif gender == 'm':\n",
    "    if age >= 16:\n",
    "        print('Mister')\n",
    "    else:\n",
    "        print('Master')\n"
   ]
  },
  {
   "cell_type": "markdown",
   "id": "cfc3e535-dd4c-454d-a5e0-0b9177ca0e03",
   "metadata": {},
   "source": [
    "Пайтън също таака поддържа и отричане което го има само в пайтън\n",
    "\n",
    "if not gender == 'f':\n"
   ]
  },
  {
   "cell_type": "raw",
   "id": "e1046db1-c94a-48ee-bd5c-7ddd047f7a3f",
   "metadata": {},
   "source": [
    "# Camel Casing\n",
    "\n",
    "Камъл кейсинга не е задължителен за Пайтън конвенцията по наименуване на променливи е следната.\n",
    "\n",
    "is_greater - Нормален питонен синтаксис\n",
    "\n",
    "isGreater - Камъл кейсинг който също е приемлив, но не е задължителен като Java, JS, C# и т.н.\n",
    "\n",
    "IsGreater - Пример за клас в C#\n"
   ]
  },
  {
   "cell_type": "markdown",
   "id": "3700782a-4474-4cf0-a0a7-16ab082a54fa",
   "metadata": {},
   "source": [
    "# Пример: квартално магазинче\n"
   ]
  },
  {
   "cell_type": "markdown",
   "id": "7860da02-f0bb-48fe-87a8-7fe6817bad99",
   "metadata": {},
   "source": [
    "Предприемчив българин отваря по едно квартално магазинче в няколко града с различни цени за следните продукти:"
   ]
  },
  {
   "cell_type": "raw",
   "id": "df8e2010-1f96-48d7-96d8-532137a74af4",
   "metadata": {},
   "source": [
    "# read the input\n",
    "\n",
    "product = input()\n",
    "town = input()\n",
    "quantity = float(input())\n",
    "\n",
    "result = 0 # по принцип има два начина да се изпълни тази задач'първият е от долу със много принтиране. \n",
    "# добра практика в пайтън е да се напише една променлива като result и от там нататък може да се принтира \n",
    "# на края на кода като print(result)\n",
    "\n",
    "''' if town == 'sofia':\n",
    "    if product == 'coffee':\n",
    "        print(quantity * 0.50) '''\n",
    "\n",
    "if town == 'sofia':\n",
    "    if product == 'coffee':\n",
    "        result = quantity * 0.50\n",
    "    elif product == 'water':\n",
    "        result = quantity * 0.80\n",
    "    elif product == 'beer':\n",
    "        result = quantity * 1.20\n",
    "    elif product == 'sweets':\n",
    "        result = quantity * 1.45\n",
    "    elif product == 'peanuts':\n",
    "        result = quantity * 1.60\n",
    "\n",
    "elif town == 'varna':\n",
    "    if product == 'coffee':\n",
    "        result = quantity * 0.45\n",
    "    elif product == 'water':\n",
    "        result = quantity * 0.70\n",
    "    elif product == 'beer':\n",
    "        result = quantity * 1.10\n",
    "    elif product == 'sweets':\n",
    "        result = quantity * 1.35\n",
    "    elif product == 'peanuts':\n",
    "        result = quantity * 1.55\n",
    "\n",
    "\n",
    "elif town == 'plovdiv':\n",
    "    if product == 'coffee':\n",
    "        result = quantity * 0.40\n",
    "    elif product == 'water':\n",
    "        result = quantity * 0.70\n",
    "    elif product == 'beer':\n",
    "        result = quantity * 1.15\n",
    "    elif product == 'sweets':\n",
    "        result = quantity * 1.30\n",
    "    elif product == 'peanuts':\n",
    "        result = quantity * 1.50\n",
    "\n",
    "print(result)"
   ]
  },
  {
   "cell_type": "markdown",
   "id": "5e71f647-add6-418a-b86d-cecc09308a51",
   "metadata": {},
   "source": [
    "# По-сложни проверки\n"
   ]
  },
  {
   "cell_type": "markdown",
   "id": "2b891f59-4f61-41f2-a1f7-d3e48c543ca6",
   "metadata": {},
   "source": [
    "Нека разгледаме как можем да правим по-сложни логически проверки. Може да използваме логическо \"И\" (and), логическо \"ИЛИ\" (or), логическо отрицание (not) и скоби (()).\n",
    "\n"
   ]
  },
  {
   "cell_type": "markdown",
   "id": "f9419733-b9b3-4cee-bf01-675196a53cc0",
   "metadata": {
    "tags": []
   },
   "source": [
    "# Булеви оператори\n",
    "\n",
    "if (true I|| false)\n",
    "\n",
    "else if (!false && true)"
   ]
  },
  {
   "cell_type": "markdown",
   "id": "44ba713c-59d5-48cb-8eca-532baedbeb1b",
   "metadata": {},
   "source": [
    "Булеви оператори\n",
    "\n",
    "• Оператори, които комбинират или изключват условия\n",
    "\n",
    "• Врьщат булеви резултат (true или false)\n",
    "\n",
    "\"and\" -И\n",
    "true\n",
    "true\n",
    "\n",
    "Вярност на двете\n",
    "\n",
    "Повече подробности в Xtra notes"
   ]
  },
  {
   "cell_type": "markdown",
   "id": "38f9a46b-9448-40eb-ae29-5d8521ac3a71",
   "metadata": {
    "tags": []
   },
   "source": [
    "# Логическо \"И\""
   ]
  },
  {
   "cell_type": "raw",
   "id": "5911b165-422a-40a1-a0e1-7dd57f285921",
   "metadata": {},
   "source": [
    "Както видяхме, в някои задачи се налага да правим много проверки наведнъж. Но какво става, когато за да изпълним някакъв код, трябва да бъдат изпълнени няколко условия едновременно и не искаме да правим отрицание (else) за всяко едно от тях? Вариантът с вложените if блокове е валиден, но кодът би изглеждал много неподреден и със сигурност - труден за четене и поддръжка.\n",
    "\n",
    "Логическо \"И\" (оператор and) означава няколко условия да са изпълнени едновременно. В сила е следната таблица на истинност:"
   ]
  },
  {
   "cell_type": "markdown",
   "id": "53877baa-d947-4ed9-b729-3e8156f9bf41",
   "metadata": {},
   "source": [
    "Проверява изпълнението на няколко условия едновременно\n",
    "\n",
    "• Пример: проверка дали число е едновременно:\n",
    "    \n",
    "• по-голямо от 5 и по-малко от 10\n",
    "\n",
    "• четно\n",
    "\n",
    "a = int(input())\n",
    "if a › 5 and x ‹ 10 and a % 2 == 0:"
   ]
  },
  {
   "cell_type": "markdown",
   "id": "374822cb-6d38-4b3b-a034-abd3d5b7e8b2",
   "metadata": {},
   "source": [
    "-  в другите програмни езици като C#, Java и т.н., and, or etc.  се обозначават със следните символи &&, || "
   ]
  },
  {
   "cell_type": "markdown",
   "id": "2a4d6ca0-8386-458c-8a68-4049cc4d0a91",
   "metadata": {},
   "source": [
    "# Логическо \"ИЛИ\"\n",
    "\n",
    "• Проверява дали е изпълнено поне едно измежду няколко условия\n",
    "\n",
    "• Пример: проверка дали введената дума е:\n",
    "\n",
    "- \"Example\" или \"Demo\"\n",
    "\n",
    "OR\n",
    "\n",
    "word = input ()\n",
    "\n",
    "if input == \"Example\" OR input == \"Demo\" :"
   ]
  },
  {
   "cell_type": "markdown",
   "id": "aedcc370-4e9e-486b-b9ef-bebbc63e8201",
   "metadata": {},
   "source": [
    "Логическо \"ИЛИ\" (оператор or) означава да е изпълнено поне едно измежду няколко условия. Подобно на оператора and, логическото \"ИЛИ\" приема няколко аргумента от булев (условен) тип и връща True или False. Лесно можем да се досетим, че получаваме като стойност True, винаги когато поне един от аргументите има стойност True. Типичен пример за логиката на този оператор е следният:\n",
    "\n",
    "В училище учителят казва: \"Иван или Петър да измият дъската\". За да бъде изпълнено това условие (дъската да бъде измита), е възможно само Иван да я измие, само Петър да я измие или и двамата да го направят."
   ]
  },
  {
   "cell_type": "markdown",
   "id": "46560853-f7ef-4228-a576-5c45b0093751",
   "metadata": {},
   "source": [
    "- Как работи операторът or ?\n",
    "\n",
    "Вече научихме какво представлява логическото \"ИЛИ\". Но как всъщност се реализира? Както при логическото \"И\", програмата проверява от ляво на дясно аргументите, които са зададени. За да получим True от израза, е необходимо само един аргумент да има стойност True, съответно проверката продължава докато се срещне аргумент с такава стойност или докато не свършат аргументите.\n",
    "\n",
    "Ето един пример за оператора or в действие:"
   ]
  },
  {
   "cell_type": "code",
   "execution_count": 2,
   "id": "afc743b9-74ac-4b19-bdee-712273f16381",
   "metadata": {},
   "outputs": [
    {
     "name": "stdout",
     "output_type": "stream",
     "text": [
      "True\n"
     ]
    }
   ],
   "source": [
    "a = False\n",
    "b = True\n",
    "c = False\n",
    "d = True\n",
    "\n",
    "result = a or b or c or d\n",
    "# True (като c и d не се проверяват)\n",
    "print(result)"
   ]
  },
  {
   "cell_type": "raw",
   "id": "7022ea79-ae0c-4b3f-bed3-a951575c173c",
   "metadata": {},
   "source": [
    "Програмата проверява а, отчита, че има стойност False и продължава. Стигайки до b, отчита, че има стойност True и целият израз получава стойност True, без да се проверява c и d, защото техните стойности не биха променили резултата на израза."
   ]
  },
  {
   "cell_type": "markdown",
   "id": "f75779aa-b56a-4007-806c-b8907b6e0e82",
   "metadata": {
    "tags": []
   },
   "source": [
    "# Логическо \"ИЛИ\" със NOT-че\n",
    "\n",
    "• Проверява дали е не е изпълнено дадено условие или един вид да се обърне логиката\n",
    "\n",
    "\n",
    "• Пример:\n",
    "\n",
    "\n",
    "Проверка дали число е по-голямо от 10 и е четно:\n",
    "\n",
    "valid = (number › 10) and (number % 2 == 0)\n",
    "\n",
    "if not valid:\n",
    "\n",
    "    print(\"Invalid\")"
   ]
  },
  {
   "cell_type": "code",
   "execution_count": 7,
   "id": "a63e9d88-6d75-43e9-97c6-b7cfcac6d5cd",
   "metadata": {},
   "outputs": [
    {
     "name": "stdin",
     "output_type": "stream",
     "text": [
      " 13\n"
     ]
    },
    {
     "name": "stdout",
     "output_type": "stream",
     "text": [
      "Invalid\n"
     ]
    }
   ],
   "source": [
    "number = int(input())\n",
    "\n",
    "valid = (number > 10) and (number % 2 == 0)\n",
    "\n",
    "if not valid:\n",
    "    print(\"Invalid\")\n",
    "else:\n",
    "    print('Valid')"
   ]
  },
  {
   "cell_type": "code",
   "execution_count": null,
   "id": "d77b900b-78d3-4ce2-861e-5860df782241",
   "metadata": {},
   "outputs": [],
   "source": []
  },
  {
   "cell_type": "code",
   "execution_count": null,
   "id": "1cb67f32-51c3-42e8-9a10-943cabf01b8e",
   "metadata": {},
   "outputs": [],
   "source": []
  },
  {
   "cell_type": "code",
   "execution_count": null,
   "id": "4934a1eb-230e-45d4-a16d-d933afcdf718",
   "metadata": {},
   "outputs": [],
   "source": []
  },
  {
   "cell_type": "code",
   "execution_count": null,
   "id": "3a622856-2872-4e4b-b90d-c917270b6227",
   "metadata": {},
   "outputs": [],
   "source": []
  },
  {
   "cell_type": "code",
   "execution_count": null,
   "id": "2de32831-10c8-4af7-a15b-9dbb2b373d66",
   "metadata": {},
   "outputs": [],
   "source": []
  },
  {
   "cell_type": "code",
   "execution_count": null,
   "id": "e0361558-afa0-450c-86f1-d45350809276",
   "metadata": {},
   "outputs": [],
   "source": []
  },
  {
   "cell_type": "code",
   "execution_count": null,
   "id": "decda7c0-1f3b-4e5e-8eee-5105033189d5",
   "metadata": {},
   "outputs": [],
   "source": []
  },
  {
   "cell_type": "code",
   "execution_count": null,
   "id": "45ea6c33-3198-4733-be0a-a260bb59e22b",
   "metadata": {},
   "outputs": [],
   "source": []
  },
  {
   "cell_type": "code",
   "execution_count": null,
   "id": "8bec6dd1-8859-40ef-b769-af78f8f646ca",
   "metadata": {},
   "outputs": [],
   "source": []
  },
  {
   "cell_type": "code",
   "execution_count": null,
   "id": "80140ec6-b7a3-4a00-a8e0-cadaa0ff43a1",
   "metadata": {},
   "outputs": [],
   "source": []
  },
  {
   "cell_type": "code",
   "execution_count": null,
   "id": "38d8543a-1300-4985-88ed-64505c81680d",
   "metadata": {},
   "outputs": [],
   "source": []
  },
  {
   "cell_type": "code",
   "execution_count": null,
   "id": "28caa277-3c8f-46ab-8e5e-9c292c4874d5",
   "metadata": {},
   "outputs": [],
   "source": []
  },
  {
   "cell_type": "code",
   "execution_count": null,
   "id": "28141c37-7c4f-46e2-b33d-c347087bb1c5",
   "metadata": {},
   "outputs": [],
   "source": []
  },
  {
   "cell_type": "code",
   "execution_count": null,
   "id": "df7d00d7-16cf-4858-91aa-3e29efc8720a",
   "metadata": {},
   "outputs": [],
   "source": []
  },
  {
   "cell_type": "code",
   "execution_count": null,
   "id": "be51d53f-aed8-4868-bd96-5630c08e0bce",
   "metadata": {},
   "outputs": [],
   "source": []
  },
  {
   "cell_type": "code",
   "execution_count": null,
   "id": "0d584a26-ae97-41ea-b879-19d13df0d128",
   "metadata": {},
   "outputs": [],
   "source": []
  }
 ],
 "metadata": {
  "kernelspec": {
   "display_name": "Python 3 (ipykernel)",
   "language": "python",
   "name": "python3"
  },
  "language_info": {
   "codemirror_mode": {
    "name": "ipython",
    "version": 3
   },
   "file_extension": ".py",
   "mimetype": "text/x-python",
   "name": "python",
   "nbconvert_exporter": "python",
   "pygments_lexer": "ipython3",
   "version": "3.9.12"
  }
 },
 "nbformat": 4,
 "nbformat_minor": 5
}
