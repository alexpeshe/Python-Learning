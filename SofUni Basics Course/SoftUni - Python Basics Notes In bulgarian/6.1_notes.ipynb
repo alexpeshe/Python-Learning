{
 "cells": [
  {
   "cell_type": "markdown",
   "metadata": {},
   "source": [
    "# Глава 6.1. Вложени цикли"
   ]
  },
  {
   "cell_type": "code",
   "execution_count": null,
   "metadata": {},
   "outputs": [
    {
     "ename": "",
     "evalue": "",
     "output_type": "error",
     "traceback": [
      "\u001b[1;31mRunning cells with 'Python 3.13.0' requires the ipykernel package.\n",
      "\u001b[1;31mRun the following command to install 'ipykernel' into the Python environment. \n",
      "\u001b[1;31mCommand: '/opt/homebrew/bin/python3 -m pip install ipykernel -U --user --force-reinstall'"
     ]
    }
   ],
   "source": [
    "# Кастване от инт към стринг\n",
    "\n",
    "name = input()\n",
    "age = int(input())\n",
    "\n",
    "print(\"Hello, \" + name + \" you are \" + str(age) + \" years old.\" )"
   ]
  },
  {
   "cell_type": "code",
   "execution_count": null,
   "metadata": {},
   "outputs": [],
   "source": [
    "name = input()\n",
    "age = int(input())\n",
    "\n",
    "print(name)\n",
    "print(age)"
   ]
  },
  {
   "cell_type": "markdown",
   "metadata": {},
   "source": [
    "# Сьдържание\n",
    "\n",
    "1. Чертане на прости фигури с for-цикьл\n",
    "\n",
    "2. Вложени цикли (цикъл в цикъл)\n",
    "\n",
    "3. Задачи за чертане: правоъгьлници, квадрати, триъгьлници, ромбове, ...\n",
    "\n",
    "4. Чертане на по-сложни фигури"
   ]
  },
  {
   "cell_type": "markdown",
   "metadata": {},
   "source": [
    "# Пример: правоъгълник от 10 x 10 звездички\n",
    "\n",
    "Да се начертае в конзолата правоъгълник от 10 x 10 звездички.\n",
    "\n",
    "**********\n",
    "**********\n",
    "**********\n",
    "**********\n",
    "**********\n",
    "**********\n",
    "**********\n",
    "**********\n",
    "**********\n",
    "**********"
   ]
  },
  {
   "cell_type": "markdown",
   "metadata": {},
   "source": [
    "for във коденето отговаря за редовете в програмата\n",
    "\n",
    "а вътре във самия цикъл са колоните ин останалите неща.\n",
    "\n"
   ]
  },
  {
   "cell_type": "markdown",
   "metadata": {},
   "source": [
    "'''\n",
    "Първи начин:\n",
    "print('**********')\n",
    "print('**********')\n",
    "print('**********')\n",
    "...... X 10\n",
    "'''"
   ]
  },
  {
   "cell_type": "markdown",
   "metadata": {},
   "source": [
    "for row in range(0, 10, 2):\n",
    "    print('*'*10)\n",
    "\n",
    "със третият параметър в скобите се прескачат стъпки във for циклите"
   ]
  },
  {
   "cell_type": "code",
   "execution_count": null,
   "metadata": {},
   "outputs": [],
   "source": [
    "for row in range(0, 10, 2):\n",
    "    print('*'*10)"
   ]
  },
  {
   "cell_type": "markdown",
   "metadata": {},
   "source": [
    "# Mетодология на задачата слънчеви очила\n",
    "\n",
    "- Трябва да се търси зависимост на това колко редове да се въртят, но също така трябва зависимост на това дали n е четно или нечетно.\n",
    "\n",
    "-  в последствие се направи една променлива if_n_even = n%2==0 и после if/else конструкция за да се провери да ли са четни или нечетни\n",
    "\n",
    "if if_n_even:\n",
    "    my_range = n//2     - // това делене зада не връща половинки, а най - близките цели числа \n",
    "    stars = 2 - ако е n e четно му се задава да е принти две звезди   и четен брой      \n",
    "else:\n",
    "    my_range = n//2 + 1 - ако ли не една и нечетен брой\n",
    "\n",
    "- След това преподавателката допусна грешка като използва вграденият рейндж кокто е запазено име, затова се преименува на my_range\n",
    "\n",
    "- Всички запазени думи в пайтън в по - следващата клетка, следващата е с цялото решение. \n",
    "\n",
    "- В горната заст имаше гарантирана зависимост от тирета която са постоянни. Докато логиката на звездите беше \n",
    "\n",
    "print('-'*int(dash) + '*'*stars + '-'*int(dash))\n",
    "        stars += 2\n",
    "        dash = (n - stars)//2\n",
    "\n",
    "- Другите редове пак бяха намерини от константите.\n",
    "\n",
    "\n",
    "# Чек лист за какво и как да се разбива проблема \n",
    "\n",
    "1) Четност и незетност на входовете\n",
    "\n",
    "2) Зависимостта на n т.е. n (3 ≤ n ≤ 100) и печата слънчеви очила с размер 5*N x N и т.н\n",
    "\n",
    "3) Къде са статичните редове и къде се въртят с for loopoвете\n",
    "\n",
    "4) Проверяване на къде се чупи кода\n"
   ]
  },
  {
   "cell_type": "markdown",
   "metadata": {},
   "source": [
    "# Read the input size of the house\n",
    "n = int(input())\n",
    "\n",
    "# Initialize variables for the house pattern\n",
    "my_range = 0    # Number of rows for the roof part\n",
    "stars = 1       # Initial number of stars in the first row\n",
    "dash = (n-stars)/2  # Calculate initial number of dashes on each side\n",
    "\n",
    "# Check if the input number is even \n",
    "if_n_even = n%2==0\n",
    "\n",
    "# Determine the number of rows for the roof based on whether n is even or odd\n",
    "if if_n_even:\n",
    "    # For even numbers:\n",
    "    my_range = n//2     # Roof will be half the total height\n",
    "    stars = 2           # Start with 2 stars for even-numbered houses\n",
    "else:\n",
    "    # For odd numbers:\n",
    "    my_range = n//2 + 1 # Roof will be slightly more than half the height\n",
    "    # stars remains 1 for odd-numbered houses\n",
    "\n",
    "# Create the roof of the house\n",
    "for row in range(0, int(my_range)):\n",
    "    # Print each row of the roof:\n",
    "    # 1. Dashes on the left side\n",
    "    # 2. Stars in the middle\n",
    "    # 3. Dashes on the right side\n",
    "    print('-'*int(dash) + '*'*stars + '-'*int(dash))\n",
    "    \n",
    "    # Increase the number of stars for the next row\n",
    "    stars += 2\n",
    "    \n",
    "    # Recalculate the number of dashes to maintain symmetry\n",
    "    dash = (n - stars)//2\n",
    "\n",
    "# Calculate the number of rows for the base of the house\n",
    "other_rows = n - my_range\n",
    "\n",
    "# Create the base of the house\n",
    "for row in range(0, other_rows):\n",
    "    # Print each row of the base:\n",
    "    # 1. Left wall '|'\n",
    "    # 2. Stars filling the width (n-2)\n",
    "    # 3. Right wall '|'\n",
    "    print('|' + '*'*(n-2) +'|')\n"
   ]
  },
  {
   "cell_type": "markdown",
   "metadata": {},
   "source": [
    "# Here are Python's reserved words list with their explanations:\n",
    "\n",
    "False - Boolean false value\n",
    "\n",
    "None - Represents absence of value or null\n",
    "\n",
    "True - Boolean true value\n",
    "\n",
    "and - Logical AND operator\n",
    "\n",
    "as - Used in import and exception handling\n",
    "\n",
    "assert - Used for debugging and testing conditions\n",
    "\n",
    "async - Defines asynchronous functions\n",
    "\n",
    "await - Used with async functions for handling coroutines\n",
    "\n",
    "break - Exits current loop\n",
    "\n",
    "class - Defines a new class\n",
    "\n",
    "continue - Skips current iteration in loop\n",
    "\n",
    "def - Defines a function\n",
    "\n",
    "del - Deletes objects or variables\n",
    "\n",
    "elif - Else-if condition in conditional statements\n",
    "\n",
    "else - Alternative code block in conditionals/loops\n",
    "\n",
    "except - Handles exceptions in try-except blocks\n",
    "\n",
    "finally - Code block executed after try/except, regardless of outcome\n",
    "\n",
    "for - Starts a for loop\n",
    "\n",
    "from - Used in importing specific parts of modules\n",
    "\n",
    "global - Declares a global variable\n",
    "\n",
    "if - Starts a conditional statement\n",
    "\n",
    "import - Imports modules\n",
    "\n",
    "in - Checks membership or used in loops\n",
    "\n",
    "is - Checks object identity\n",
    "\n",
    "lambda - Creates anonymous functions\n",
    "\n",
    "nonlocal - Declares a variable in outer (non-global) scope\n",
    "\n",
    "not - Logical NOT operator\n",
    "\n",
    "or - Logical OR operator\n",
    "\n",
    "pass - Placeholder for future code\n",
    "\n",
    "raise - Triggers an exception\n",
    "\n",
    "return - Exits function and returns a value\n",
    "\n",
    "try - Starts exception handling block\n",
    "\n",
    "while - Starts a while loop\n",
    "\n",
    "with - Simplifies exception handling\n",
    "\n",
    "yield - Used in generator functions"
   ]
  },
  {
   "cell_type": "code",
   "execution_count": null,
   "metadata": {},
   "outputs": [],
   "source": []
  },
  {
   "cell_type": "markdown",
   "metadata": {},
   "source": []
  }
 ],
 "metadata": {
  "kernelspec": {
   "display_name": "base",
   "language": "python",
   "name": "python3"
  },
  "language_info": {
   "codemirror_mode": {
    "name": "ipython",
    "version": 3
   },
   "file_extension": ".py",
   "mimetype": "text/x-python",
   "name": "python",
   "nbconvert_exporter": "python",
   "pygments_lexer": "ipython3",
   "version": "3.9.12"
  }
 },
 "nbformat": 4,
 "nbformat_minor": 2
}
