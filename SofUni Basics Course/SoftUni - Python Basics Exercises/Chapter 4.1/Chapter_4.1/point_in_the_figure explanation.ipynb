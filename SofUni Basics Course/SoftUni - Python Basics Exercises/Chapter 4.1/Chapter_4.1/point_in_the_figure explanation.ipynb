{
 "cells": [
  {
   "cell_type": "markdown",
   "metadata": {},
   "source": [
    "# point_in_the_figure explanation"
   ]
  },
  {
   "cell_type": "markdown",
   "metadata": {},
   "source": [
    " # Break down of how it works:\n",
    "\n",
    "Input:\n",
    "\n",
    "h: size of each block\n",
    "x, y: coordinates of the point to check\n",
    "Rectangle Definitions:\n",
    "\n",
    "Bottom rectangle (rect1):\n",
    "x: from 0 to 3h\n",
    "y: from 0 to h\n",
    "\n",
    "Top rectangle (rect2):\n",
    "x: from h to 2h\n",
    "y: from h to 4h\n",
    "\n",
    "Position Checks:\n",
    "\n",
    "Inside check: point must be within rectangle boundaries (not on borders)\n",
    "Border check: point must be exactly on one of the rectangle's edges\n",
    "Outside: point is neither inside nor on borders\n",
    "Test Cases:\n",
    "\n",
    "python\n",
    "Insert Code\n",
    "Edit\n",
    "Copy code\n",
    "# Example inputs and expected outputs:\n",
    "# h=2, x=3, y=10 → \"outside\"\n",
    "# h=2, x=3, y=1  → \"inside\"\n",
    "# h=2, x=2, y=2  → \"border\"\n",
    "# h=2, x=6, y=0  → \"border\"\n",
    "This solution handles all the test cases you provided and follows the requirements of:\n",
    "\n",
    "Not using functions (no def)\n",
    "Using only int inputs\n",
    "Correctly identifying inside/outside/border positions"
   ]
  }
 ],
 "metadata": {
  "language_info": {
   "name": "python"
  }
 },
 "nbformat": 4,
 "nbformat_minor": 2
}
