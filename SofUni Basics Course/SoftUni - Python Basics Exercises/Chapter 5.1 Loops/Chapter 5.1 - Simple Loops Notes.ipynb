{
 "cells": [
  {
   "cell_type": "markdown",
   "metadata": {},
   "source": [
    "# Глава 5.1. Повторения (цикли) - Loops\n"
   ]
  },
  {
   "cell_type": "markdown",
   "metadata": {},
   "source": [
    "# Сьдържание\n",
    "\n",
    "• For-цикьл\n",
    "\n",
    "• Конструкция\n",
    "\n",
    "• ASCII таблица\n",
    "\n",
    "• Приложение"
   ]
  },
  {
   "cell_type": "markdown",
   "metadata": {},
   "source": [
    "Повторения (цикли) - for-цикъл\n",
    "\n",
    "• В програмирането често пьти се налага да изпълним блок с команди няколко пьти\n",
    "\n",
    "• За целта използваме цикли,\n",
    "\n",
    "- i е съкратено за item "
   ]
  },
  {
   "cell_type": "code",
   "execution_count": 6,
   "metadata": {},
   "outputs": [
    {
     "name": "stdout",
     "output_type": "stream",
     "text": [
      "i = 1\n",
      "i = 2\n",
      "i = 3\n",
      "i = 4\n",
      "i = 5\n",
      "i = 6\n",
      "i = 7\n",
      "i = 8\n",
      "i = 9\n"
     ]
    }
   ],
   "source": [
    "for i in range(1, 10):\n",
    "    print('i = ' + str(i))"
   ]
  },
  {
   "cell_type": "code",
   "execution_count": 7,
   "metadata": {},
   "outputs": [
    {
     "name": "stdout",
     "output_type": "stream",
     "text": [
      "item = 1\n",
      "item = 2\n",
      "item = 3\n",
      "item = 4\n",
      "item = 5\n",
      "item = 6\n",
      "item = 7\n",
      "item = 8\n",
      "item = 9\n",
      "item = 10\n",
      "item = 11\n",
      "item = 12\n",
      "item = 13\n",
      "item = 14\n",
      "item = 15\n",
      "item = 16\n",
      "item = 17\n",
      "item = 18\n",
      "item = 19\n",
      "item = 20\n"
     ]
    }
   ],
   "source": [
    "# Втори пример\n",
    "\n",
    "for item in range(1, 21):\n",
    "    print('item = ' + str(item))"
   ]
  },
  {
   "cell_type": "code",
   "execution_count": 8,
   "metadata": {},
   "outputs": [
    {
     "name": "stdout",
     "output_type": "stream",
     "text": [
      "item = 1\n",
      "item = 2\n",
      "item = 3\n",
      "item = 4\n",
      "item = 5\n",
      "item = 6\n",
      "item = 7\n",
      "item = 8\n",
      "item = 9\n",
      "item = 10\n",
      "item = 11\n",
      "item = 12\n",
      "item = 13\n",
      "item = 14\n",
      "item = 15\n",
      "item = 16\n",
      "item = 17\n",
      "item = 18\n",
      "item = 19\n",
      "item = 20\n",
      "item = 21\n",
      "item = 22\n",
      "item = 23\n",
      "item = 24\n",
      "item = 25\n",
      "item = 26\n",
      "item = 27\n",
      "item = 28\n",
      "item = 29\n",
      "item = 30\n",
      "item = 31\n",
      "item = 32\n",
      "item = 33\n",
      "item = 34\n",
      "item = 35\n",
      "item = 36\n",
      "item = 37\n",
      "item = 38\n",
      "item = 39\n",
      "item = 40\n",
      "item = 41\n",
      "item = 42\n",
      "item = 43\n",
      "item = 44\n",
      "item = 45\n",
      "item = 46\n",
      "item = 47\n",
      "item = 48\n",
      "item = 49\n",
      "item = 50\n",
      "item = 51\n",
      "item = 52\n",
      "item = 53\n",
      "item = 54\n",
      "item = 55\n",
      "item = 56\n",
      "item = 57\n",
      "item = 58\n",
      "item = 59\n",
      "item = 60\n",
      "item = 61\n",
      "item = 62\n",
      "item = 63\n",
      "item = 64\n",
      "item = 65\n",
      "item = 66\n",
      "item = 67\n",
      "item = 68\n",
      "item = 69\n",
      "item = 70\n",
      "item = 71\n",
      "item = 72\n",
      "item = 73\n",
      "item = 74\n",
      "item = 75\n",
      "item = 76\n",
      "item = 77\n",
      "item = 78\n",
      "item = 79\n",
      "item = 80\n",
      "item = 81\n",
      "item = 82\n",
      "item = 83\n",
      "item = 84\n",
      "item = 85\n",
      "item = 86\n",
      "item = 87\n",
      "item = 88\n",
      "item = 89\n",
      "item = 90\n",
      "item = 91\n",
      "item = 92\n",
      "item = 93\n",
      "item = 94\n",
      "item = 95\n",
      "item = 96\n",
      "item = 97\n",
      "item = 98\n",
      "item = 99\n",
      "item = 100\n"
     ]
    }
   ],
   "source": [
    "# Трети пример\n",
    "\n",
    "for item in range(1, 101):\n",
    "    print('item = ' + str(item))"
   ]
  },
  {
   "cell_type": "markdown",
   "metadata": {},
   "source": [
    "# ASCII Таблица"
   ]
  },
  {
   "cell_type": "markdown",
   "metadata": {},
   "source": [
    "- В Python няма примитивни типове данни, има само обекти. И те са:\n",
    "\n",
    "- str \n",
    "\n",
    "- int\n",
    "\n",
    "- float\n",
    "\n",
    "- boolean\n",
    "\n",
    "- char - Провери printing_the_alphabet.py\n"
   ]
  },
  {
   "cell_type": "markdown",
   "metadata": {},
   "source": [
    "# Техники за for loops\n",
    "\n",
    "- Да се внимава от къде се почват и до къде се въртят\n",
    "\n",
    "- да се внимава трябва да се повтаря в кода и колко пъти \n",
    "\n",
    "- Спецификата на Python кемъл кейсинга е за променливи leftSum, да се провери конвенцията на Python.\n"
   ]
  },
  {
   "cell_type": "markdown",
   "metadata": {},
   "source": [
    "# End "
   ]
  }
 ],
 "metadata": {
  "kernelspec": {
   "display_name": "Python 3",
   "language": "python",
   "name": "python3"
  },
  "language_info": {
   "codemirror_mode": {
    "name": "ipython",
    "version": 3
   },
   "file_extension": ".py",
   "mimetype": "text/x-python",
   "name": "python",
   "nbconvert_exporter": "python",
   "pygments_lexer": "ipython3",
   "version": "3.12.0"
  }
 },
 "nbformat": 4,
 "nbformat_minor": 2
}
