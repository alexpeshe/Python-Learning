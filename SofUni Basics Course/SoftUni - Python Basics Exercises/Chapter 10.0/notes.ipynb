{
 "cells": [
  {
   "cell_type": "markdown",
   "id": "041b6603",
   "metadata": {},
   "source": [
    "# Functions in Python"
   ]
  },
  {
   "cell_type": "markdown",
   "id": "7df1227b",
   "metadata": {},
   "source": [
    "## Table of Contents\n",
    "\n",
    "1. Using Functions\n",
    "• What is a Function? Why Use Functions?\n",
    "• Declaring and Invoking Functions\n",
    "2. Functions with Parameters\n",
    "• Passing Parameters and Returning Values\n",
    "3. Debugging and Program Flow\n",
    "4. Naming and Best Practices"
   ]
  },
  {
   "cell_type": "markdown",
   "id": "de3f304d",
   "metadata": {},
   "source": [
    "### Simple Functions\n",
    "\n",
    "• Functions are named pieces of code that can be invoked later\n",
    "\n",
    "• Sample function"
   ]
  },
  {
   "cell_type": "code",
   "execution_count": null,
   "id": "3c472f67",
   "metadata": {
    "vscode": {
     "languageId": "plaintext"
    }
   },
   "outputs": [],
   "source": [
    "def print_header():\n",
    "    print('--------')"
   ]
  },
  {
   "cell_type": "markdown",
   "id": "af3886f7",
   "metadata": {},
   "source": [
    "### Why Use Functions?\n",
    "\n",
    "• More manageable programming\n",
    "\n",
    "• Splits large problems into small pieces\n",
    "\n",
    "• Better organization of the program\n",
    "\n",
    "• Improves code readability\n",
    "\n",
    "• Improves code understandability\n",
    "\n",
    "• Avoiding repeating code\n",
    "\n",
    "• Improves code maintainability\n",
    "\n",
    "• Code reusability\n",
    "\n",
    "• Using existing Functions several times"
   ]
  },
  {
   "cell_type": "markdown",
   "id": "7d85b961",
   "metadata": {},
   "source": [
    "### Parameters in Python function\n",
    "\n",
    "Parameters in Python functions serve several crucial purposes and understanding them is key to writing effective code. \n",
    "Let's examine why parameters are needed and how to identify them using your example function.\n",
    "\n",
    "Why Parameters Are Needed in Functions:\n",
    "--------------------------------------------------\n",
    "\n",
    "Parameters make functions versatile and reusable by allowing them to:\n",
    "\n",
    "Accept external input that can change the function's behavior without modifying its code.\n",
    "\n",
    "Process different data inputs, making the same function work with various values.\n",
    "\n",
    "Customize function behavior based on specific requirements.\n",
    "\n",
    "Enable code reuse by making functions adaptable to different situations.\n",
    "\n",
    "In your example def sign_int(num):, the function can determine if any number is positive, negative, or zero without needing separate functions for each possibility.\n",
    "\n",
    "Understanding Parameters vs. Arguments\n",
    "--------------------------------------------------\n",
    "\n",
    "It's important to distinguish between parameters and arguments:\n",
    "\n",
    "Parameters are the variables defined in the function declaration (like num in your example).\n",
    "\n",
    "Arguments are the actual values passed to the function when it's called.\n",
    "\n",
    "------------------------------------------------------------------\n",
    "-----------------------------------------------------------------\n",
    "\n"
   ]
  },
  {
   "cell_type": "code",
   "execution_count": null,
   "id": "6a17e8b6",
   "metadata": {
    "vscode": {
     "languageId": "plaintext"
    }
   },
   "outputs": [],
   "source": [
    "# For example:\n",
    "\n",
    "def sign_int(num):  # num is the parameter\n",
    "    # Function body\n",
    "\n",
    "sign_int(5)  # 5 is the argument"
   ]
  },
  {
   "cell_type": "markdown",
   "id": "2499fdd1",
   "metadata": {},
   "source": [
    "### Identifying Parameters in Functions\n",
    "\n",
    "In your example def sign_int(num)::\n",
    "\n",
    "sign_int is the function name\n",
    "\n",
    "num is the parameter that:\n",
    "\n",
    "Represents the input value to be evaluated\n",
    "\n",
    "Becomes available as a variable inside the function\n",
    "\n",
    "Will contain whatever value is passed when the function is called\n",
    "\n",
    "Is used in the conditional statements to determine the sign"
   ]
  },
  {
   "cell_type": "markdown",
   "id": "e9f949d6",
   "metadata": {},
   "source": [
    "### Types of Parameters\n",
    "\n",
    "Python supports several parameter types:\n",
    "\n",
    "Required parameters (like in your example) - must be provided when calling the function.\n",
    "\n",
    "Default parameters - have predefined values used when no argument is provide"
   ]
  },
  {
   "cell_type": "code",
   "execution_count": null,
   "id": "ac6fe68e",
   "metadata": {
    "vscode": {
     "languageId": "plaintext"
    }
   },
   "outputs": [],
   "source": [
    "def sign_int(num=0):  # Default value is 0\n"
   ]
  },
  {
   "cell_type": "markdown",
   "id": "c3ee255e",
   "metadata": {},
   "source": [
    "### Keyword parameters - identified by parameter names during function calls"
   ]
  },
  {
   "cell_type": "code",
   "execution_count": null,
   "id": "b374ac93",
   "metadata": {
    "vscode": {
     "languageId": "plaintext"
    }
   },
   "outputs": [],
   "source": [
    "sign_int(num=5)  # Explicitly naming the parameter\n"
   ]
  },
  {
   "cell_type": "markdown",
   "id": "090ebf43",
   "metadata": {},
   "source": [
    "### Arbitrary parameters - allow passing a variable number of arguments"
   ]
  },
  {
   "cell_type": "code",
   "execution_count": null,
   "id": "5da66e6b",
   "metadata": {
    "vscode": {
     "languageId": "plaintext"
    }
   },
   "outputs": [],
   "source": [
    "def analyze_numbers(*nums):  # Can accept any number of values\n"
   ]
  },
  {
   "cell_type": "markdown",
   "id": "a5d3635e",
   "metadata": {},
   "source": [
    "# Understanding these parameter types helps you design more flexible and powerful functions that can handle various input scenarios."
   ]
  },
  {
   "cell_type": "markdown",
   "id": "a8c05069",
   "metadata": {},
   "source": [
    "### When to Use Parameters\n",
    "\n",
    "Parameters are particularly useful when:\n",
    "\n",
    "The function needs to work with different data inputs.\n",
    "\n",
    "You want to configure or customize function behavior.\n",
    "\n",
    "The function interacts with user input.\n",
    "\n",
    "You need to perform complex operations with varying inputs.\n",
    "\n",
    "Your sign_int() function demonstrates this flexibility by being able to evaluate any number passed to it, making it much more useful than a function hardcoded to check only one specific value."
   ]
  },
  {
   "cell_type": "markdown",
   "id": "13845217",
   "metadata": {},
   "source": [
    "# Parameter Names vs. External Variables\n",
    "\n",
    "- In your code:"
   ]
  },
  {
   "cell_type": "code",
   "execution_count": null,
   "id": "5ae2df1b",
   "metadata": {
    "vscode": {
     "languageId": "plaintext"
    }
   },
   "outputs": [],
   "source": [
    "# External variable\n",
    "number = int(input())\n",
    "\n",
    "def sign_int(num):  # Function parameter\n",
    "    if num == 0:\n",
    "        print(f\"The number {num} is zero\")\n",
    "    elif num > 0:\n",
    "        print(f\"The number {num} is positive\")\n",
    "    else:\n",
    "        print(f\"The number {num} is negative\")\n",
    "\n",
    "sign_int(number)  # Passing external variable to function\n"
   ]
  },
  {
   "cell_type": "markdown",
   "id": "eb1959a1",
   "metadata": {},
   "source": [
    "### These are different variables that exist in different scopes:\n",
    "\n",
    "number is a variable in the global scope:\n",
    "\n",
    "Created outside the function\n",
    "\n",
    "Stores the user's input\n",
    "\n",
    "Exists in the main program flow\n",
    "\n",
    "num is a parameter variable in the function's local scope:\n",
    "\n",
    "Only exists inside the sign_int function\n",
    "\n",
    "Receives a copy of whatever value is passed to the function\n",
    "\n",
    "Has no relationship to other variables outside the function"
   ]
  },
  {
   "cell_type": "markdown",
   "id": "8e7b8bc3",
   "metadata": {},
   "source": [
    "- What Happens When the Function Is Called\n",
    "\n",
    "When you call sign_int(number):\n",
    "\n",
    "The value stored in number (the user input) is passed to the function\n",
    "\n",
    "Inside the function, that value is assigned to the parameter num\n",
    "\n",
    "The function then works with num, completely independent of the original number variable\n",
    "\n",
    "- Why Use Different Names?\n",
    "\n",
    "Using different names for parameters and external variables:\n",
    "\n",
    "Clarifies scope: Makes it clear which variable belongs where\n",
    "\n",
    "Prevents confusion: Distinguishes between the original data and the function's working copy\n",
    "\n",
    "Improves readability: Makes the code easier to understand and maintain\n",
    "\n"
   ]
  },
  {
   "cell_type": "markdown",
   "id": "9fc678a6",
   "metadata": {},
   "source": [
    "#### You could technically use the same name:"
   ]
  },
  {
   "cell_type": "markdown",
   "id": "6e633349",
   "metadata": {},
   "source": [
    "number = int(input())\n",
    "\n",
    "def sign_int(number):  # Same name as external variable\n",
    "    if number == 0:\n",
    "        print(f\"The number {number} is zero\")\n",
    "    # etc.\n",
    "\n",
    "sign_int(number)\n"
   ]
  },
  {
   "cell_type": "markdown",
   "id": "79f6603d",
   "metadata": {},
   "source": [
    "This would work because the parameter number inside the function is still a separate variable from the global number. However, using different names is generally better practice as it makes the distinction clearer."
   ]
  },
  {
   "cell_type": "markdown",
   "id": "d66ced82",
   "metadata": {},
   "source": [
    "### Key Concept: Variable Scope\n",
    "\n",
    "This example illustrates the concept of variable scope:\n",
    "\n",
    "Variables defined outside functions have global scope\n",
    "\n",
    "Parameters and variables defined inside functions have local scope\n",
    "\n",
    "Local variables with the same names as global variables \"shadow\" the global ones within their scope\n",
    "\n",
    "- Understanding this distinction helps prevent bugs and makes your code more maintainable as programs grow in complexity."
   ]
  },
  {
   "cell_type": "markdown",
   "id": "f64491a2",
   "metadata": {},
   "source": []
  },
  {
   "cell_type": "markdown",
   "id": "1b0884e6",
   "metadata": {},
   "source": []
  },
  {
   "cell_type": "markdown",
   "id": "b7b79627",
   "metadata": {},
   "source": []
  },
  {
   "cell_type": "markdown",
   "id": "499a9b09",
   "metadata": {},
   "source": []
  },
  {
   "cell_type": "markdown",
   "id": "8488de34",
   "metadata": {},
   "source": []
  },
  {
   "cell_type": "markdown",
   "id": "875f3a61",
   "metadata": {},
   "source": []
  },
  {
   "cell_type": "markdown",
   "id": "943fbb61",
   "metadata": {},
   "source": []
  },
  {
   "cell_type": "markdown",
   "id": "61264946",
   "metadata": {},
   "source": []
  },
  {
   "cell_type": "markdown",
   "id": "c4b9b062",
   "metadata": {},
   "source": []
  },
  {
   "cell_type": "markdown",
   "id": "6a58fefa",
   "metadata": {},
   "source": []
  }
 ],
 "metadata": {
  "language_info": {
   "name": "python"
  }
 },
 "nbformat": 4,
 "nbformat_minor": 5
}
