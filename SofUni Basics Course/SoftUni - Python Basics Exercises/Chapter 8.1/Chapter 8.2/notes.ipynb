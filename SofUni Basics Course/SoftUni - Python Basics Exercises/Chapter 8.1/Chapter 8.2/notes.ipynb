{
 "cells": [
  {
   "cell_type": "markdown",
   "metadata": {},
   "source": [
    "# Summary of Programming Concepts and Best Practices\n"
   ]
  },
  {
   "cell_type": "markdown",
   "metadata": {},
   "source": [
    "## Core Programming Concepts Learned\n"
   ]
  },
  {
   "cell_type": "markdown",
   "metadata": {},
   "source": [
    "### 1. Data Types and Variables\n",
    "\n",
    "- Numeric Types: Using integers, floats for calculations\n",
    "\n",
    "- Strings: Processing text input and formatting output\n",
    "\n",
    "- Constants: Using uppercase variables for fixed values (e.g., BEER_PRICE = 1.20)\n",
    "\n",
    "- Type Conversion: Converting between strings, integers, and floats"
   ]
  },
  {
   "cell_type": "markdown",
   "metadata": {},
   "source": [
    "### 2. Control Structures\n",
    "\n",
    "Conditional Statements: Using if-elif-else for decision making\n",
    "\n",
    "Loops:\n",
    "\n",
    "For loops for iterating through ranges or collections\n",
    "\n",
    "Nested loops for generating combinations\n",
    "\n",
    "Loop control with break statements"
   ]
  },
  {
   "cell_type": "markdown",
   "metadata": {},
   "source": [
    "### 3. Data Structures\n",
    "\n",
    "Lists: For storing collections of related items\n",
    "\n",
    "Dictionaries: For key-value mappings (prices, configurations)\n",
    "\n",
    "Nested Dictionaries: For hierarchical data organization"
   ]
  },
  {
   "cell_type": "markdown",
   "metadata": {},
   "source": [
    "### 4. Functions and Modules\n",
    "\n",
    "Built-in Functions: abs(), range(), int(), float(), input()\n",
    "\n",
    "Math Module: math.ceil() for rounding up\n",
    "\n",
    "String Functions: ord() and chr() for ASCII conversions"
   ]
  },
  {
   "cell_type": "markdown",
   "metadata": {},
   "source": [
    "### 5. String Manipulation\n",
    "\n",
    "F-strings: For formatted output with variables\n",
    "\n",
    "String Formatting: Using :.2f for displaying monetary values\n",
    "\n",
    "String Comparison: Checking equality with ==\n",
    "\n"
   ]
  },
  {
   "cell_type": "markdown",
   "metadata": {},
   "source": []
  },
  {
   "cell_type": "markdown",
   "metadata": {},
   "source": []
  },
  {
   "cell_type": "markdown",
   "metadata": {},
   "source": []
  }
 ],
 "metadata": {
  "language_info": {
   "name": "python"
  }
 },
 "nbformat": 4,
 "nbformat_minor": 2
}
