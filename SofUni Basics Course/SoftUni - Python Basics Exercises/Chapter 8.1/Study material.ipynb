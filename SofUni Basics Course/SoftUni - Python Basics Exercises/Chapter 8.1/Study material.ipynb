{
 "cells": [
  {
   "cell_type": "markdown",
   "metadata": {},
   "source": [
    "# Recommendations for Improvement:\n",
    "\n",
    "Study string vs integer operations\n",
    "\n",
    "Practice digit extraction from numbers\n",
    "\n",
    "Review modulo operator (%)\n",
    "\n",
    "Study nested loops for grid creation\n",
    "\n",
    "Practice breaking down complex problems into smaller steps"
   ]
  },
  {
   "cell_type": "markdown",
   "metadata": {},
   "source": [
    "# 1. String vs Integer Operations\n",
    "\n",
    "Basic String Operations"
   ]
  },
  {
   "cell_type": "code",
   "execution_count": null,
   "metadata": {},
   "outputs": [],
   "source": [
    "# String concatenation\n",
    "text1 = \"Hello\"\n",
    "text2 = \" World\"\n",
    "result = text1 + text2  # Results in \"Hello World\"\n",
    "\n",
    "# This won't work - common beginner mistake\n",
    "number_string = \"123\"\n",
    "result = intnumber_string+ 5  # TypeError!\n",
    "\n",
    "# Correct way to handle numbers in strings\n",
    "result = int(number_string) + 5  # Results in 128\n"
   ]
  },
  {
   "cell_type": "markdown",
   "metadata": {},
   "source": [
    "# Digit Extraction\n",
    "\n",
    "- Method 1: Using String Conversio"
   ]
  },
  {
   "cell_type": "code",
   "execution_count": 1,
   "metadata": {},
   "outputs": [
    {
     "name": "stdout",
     "output_type": "stream",
     "text": [
      "1\n",
      "2\n",
      "3\n",
      "4\n",
      "5\n"
     ]
    }
   ],
   "source": [
    "number = 12345\n",
    "# Convert to string and iterate through digits\n",
    "for digit in str(number):\n",
    "    print(int(digit))  # Prints each digit on a new line\n"
   ]
  },
  {
   "cell_type": "markdown",
   "metadata": {},
   "source": [
    "# Method 2: Using Mathematical Approach\n",
    "\n"
   ]
  },
  {
   "cell_type": "code",
   "execution_count": null,
   "metadata": {},
   "outputs": [],
   "source": [
    "number = 12345\n",
    "while number > 0:\n",
    "    digit = number % 10  # Gets the last digit\n",
    "    print(digit)\n",
    "    number = number // 10  # Removes the last digit\n"
   ]
  },
  {
   "cell_type": "markdown",
   "metadata": {},
   "source": [
    "# 2. Modulo Operator (%)\n",
    "\n",
    "- The modulo operator returns the remainder of division4. Common uses include:\n",
    "\n",
    "Finding Even/Odd Numbers"
   ]
  },
  {
   "cell_type": "code",
   "execution_count": 5,
   "metadata": {},
   "outputs": [],
   "source": [
    "number = 7\n",
    "is_even = number % 2 == 0  # False\n",
    "is_odd = number % 2 != 0   # True\n"
   ]
  },
  {
   "cell_type": "markdown",
   "metadata": {},
   "source": [
    "# Wrapping Around Values\n",
    "\n"
   ]
  },
  {
   "cell_type": "code",
   "execution_count": 7,
   "metadata": {},
   "outputs": [],
   "source": [
    "# Useful for circular patterns or clock arithmetic\n",
    "hour = 25 % 12  # Results in 1 (wraps around clock)\n"
   ]
  },
  {
   "cell_type": "markdown",
   "metadata": {},
   "source": [
    "# Nested Loops for Grid Creation\n"
   ]
  },
  {
   "cell_type": "code",
   "execution_count": 9,
   "metadata": {},
   "outputs": [
    {
     "name": "stdout",
     "output_type": "stream",
     "text": [
      "(0,0) (0,1) (0,2) \n",
      "(1,0) (1,1) (1,2) \n",
      "(2,0) (2,1) (2,2) \n"
     ]
    }
   ],
   "source": [
    "# Creating a 3x3 grid pattern\n",
    "for row in range(3):\n",
    "    for column in range(3):\n",
    "        print(f\"({row},{column})\", end=\" \")\n",
    "    print()  # New line after each row\n"
   ]
  },
  {
   "cell_type": "markdown",
   "metadata": {},
   "source": [
    "# Breaking Down Complex Problems\n",
    "\n",
    "Here's an example of breaking down a problem to find the sum of even numbers in a range:"
   ]
  },
  {
   "cell_type": "markdown",
   "metadata": {},
   "source": [
    "# Steps to Probblem Solving or Breaking Down a Complex Problem:\n",
    "\n",
    "- Understand the Problem Thoroughly:\n",
    "\n",
    "1. Read the problem statement carefully and ensure you understand all the requirements.\n",
    "\n",
    "2. Identify the input and output formats.\n",
    "\n",
    "3. Ask clarifying questions if needed.\n",
    "\n",
    "- Identify Subproblems:\n",
    "\n",
    "1. Look for smaller, independent tasks within the larger problem.\n",
    "\n",
    "2. Consider breaking down the problem based on functional components or data structures.\n",
    "\n",
    "- Define the Relationship Between Subproblems:\n",
    "\n",
    "1. Determine how the subproblems interact with each other.\n",
    "\n",
    "2. Identify any dependencies or constraints between them.\n",
    "\n",
    "- Solve Subproblems Individually:\n",
    "\n",
    "1. Focus on solving each subproblem independently.\n",
    "\n",
    "2. Use appropriate algorithms and data structures.\n",
    "\n",
    "- Combine Solutions:\n",
    "\n",
    "1. Integrate the solutions to the subproblems to solve the overall problem.\n",
    "\n",
    "2. Ensure that the combined solution meets the original requirements."
   ]
  },
  {
   "cell_type": "markdown",
   "metadata": {},
   "source": [
    "# Key Points & Strengths:\n",
    "\n",
    "Systematic and logical approach\n",
    "\n",
    "Emphasizes understanding before coding\n",
    "\n",
    "Breaks complex tasks into manageable pieces\n",
    "\n",
    "Focuses on relationships between components\n",
    "\n",
    "Promotes modular thinking"
   ]
  },
  {
   "cell_type": "markdown",
   "metadata": {},
   "source": [
    "# A Practical Example\n",
    "\n",
    "Let's apply this guide to a common programming problem: \"Create a program that finds the most frequent word in a text file, ignoring case and punctuation.\"\n",
    "\n",
    "1. Understand the Problem\n",
    "\n",
    "\"\"\"\n",
    "Input: Text file\n",
    "\n",
    "Output: Most frequent word and its count\n",
    "\n",
    "Requirements: \n",
    "\n",
    "- Case insensitive\n",
    "\n",
    "- Ignore punctuation\n",
    "\n",
    "- Handle multiple words with same frequency\n",
    "\"\"\"\n"
   ]
  },
  {
   "cell_type": "code",
   "execution_count": null,
   "metadata": {},
   "outputs": [],
   "source": [
    "# 2. Identify Subproblems\n",
    "\n",
    "# Subproblem 1: Read the file\n",
    "def read_file(filename):\n",
    "    with open(filename, 'r') as file:\n",
    "        return file.read()\n",
    "\n",
    "# Subproblem 2: Clean and process text\n",
    "def clean_text(text):\n",
    "    import string\n",
    "    text = text.lower()\n",
    "    text = text.translate(str.maketrans('', '', string.punctuation))\n",
    "    return text\n",
    "\n",
    "# Subproblem 3: Count words\n",
    "def count_words(text):\n",
    "    words = text.split()\n",
    "    word_count = {}\n",
    "    for word in words:\n",
    "        word_count[word] = word_count.get(word, 0) + 1\n",
    "    return word_count\n",
    "\n",
    "# Subproblem 4: Find most frequent word\n",
    "def find_most_frequent(word_count):\n",
    "    max_count = max(word_count.values())\n",
    "    most_frequent = [word for word, count in word_count.items() \n",
    "                    if count == max_count]\n",
    "    return most_frequent, max_count\n"
   ]
  },
  {
   "cell_type": "code",
   "execution_count": null,
   "metadata": {},
   "outputs": [],
   "source": [
    "# 3. Define Relationships\n",
    "\n",
    "def find_most_frequent_word(filename):\n",
    "    \"\"\"\n",
    "    Main function combining all subproblems in sequence:\n",
    "    1. Read → 2. Clean → 3. Count → 4. Find most frequent\n",
    "    \"\"\"\n",
    "    # Step 1\n",
    "    text = read_file(filename)\n",
    "    \n",
    "    # Step 2\n",
    "    clean = clean_text(text)\n",
    "    \n",
    "    # Step 3\n",
    "    word_count = count_words(clean)\n",
    "    \n",
    "    # Step 4\n",
    "    most_frequent, count = find_most_frequent(word_count)\n",
    "    \n",
    "    return most_frequent, count\n"
   ]
  },
  {
   "cell_type": "code",
   "execution_count": null,
   "metadata": {},
   "outputs": [],
   "source": [
    "# 4. Test the Solution\n",
    "\n",
    "# Example usage\n",
    "def main():\n",
    "    try:\n",
    "        words, count = find_most_frequent_word('sample.txt')\n",
    "        print(f\"Most frequent word(s): {words}\")\n",
    "        print(f\"Appears {count} times\")\n",
    "    except FileNotFoundError:\n",
    "        print(\"File not found!\")\n",
    "    except Exception as e:\n",
    "        print(f\"An error occurred: {e}\")\n",
    "\n",
    "if __name__ == \"__main__\":\n",
    "    main()\n"
   ]
  },
  {
   "cell_type": "markdown",
   "metadata": {},
   "source": [
    "# Recommendations for the Guide\n",
    "\n",
    "Add Testing Phase\n",
    "\n",
    "Include a step for testing with different inputs\n",
    "\n",
    "Consider edge cases\n",
    "\n",
    "Validate results\n",
    "\n",
    "Include Documentation\n",
    "\n",
    "Add a step for documenting the solution\n",
    "\n",
    "Include comments explaining logic\n",
    "\n",
    "Write clear function descriptions\n",
    "\n",
    "Consider Optimization\n",
    "\n",
    "Add a step for reviewing efficiency\n",
    "\n",
    "Look for potential improvements\n",
    "\n",
    "Consider space/time complexity\n",
    "\n",
    "Error Handling\n",
    "\n",
    "Include a step for handling potential errors\n",
    "\n",
    "Consider input validation\n",
    "\n",
    "Plan for edge cases"
   ]
  },
  {
   "cell_type": "code",
   "execution_count": 11,
   "metadata": {},
   "outputs": [
    {
     "name": "stdout",
     "output_type": "stream",
     "text": [
      "128\n"
     ]
    }
   ],
   "source": [
    "def sum_even_numbers(start, end):\n",
    "    # Step 1: Generate range of numbers\n",
    "    numbers = range(start, end + 1)\n",
    "    \n",
    "    # Step 2: Filter even numbers\n",
    "    even_numbers = [num for num in numbers if num % 2 == 0]\n",
    "    \n",
    "    # Step 3: Calculate sum\n",
    "    result = sum(even_numbers)\n",
    "    \n",
    "    return result\n",
    "\n",
    "# Example usage\n",
    "total = sum_even_numbers(1, 10)  # Results in 30 (2+4+6+8+10)\n",
    "\n",
    "print(result)\n"
   ]
  },
  {
   "cell_type": "markdown",
   "metadata": {},
   "source": [
    "# Key Points to Remember\n",
    "\n",
    "- Always convert between strings and numbers explicitly using int() or str()\n",
    "\n",
    "- The modulo operator (%) is essential for many mathematical operations\n",
    "\n",
    "- Nested loops follow a pattern: outer loop first, then inner loop\n",
    "\n",
    "- Break complex problems into smaller, manageable steps\n",
    "\n",
    "- Practice with simple examples before moving to complex ones"
   ]
  },
  {
   "cell_type": "markdown",
   "metadata": {},
   "source": [
    "# Practice Recommendations\n",
    "\n",
    "- Create small programs that convert between strings and numbers\n",
    "\n",
    "- Write functions that extract and manipulate digits from numbers\n",
    "\n",
    "- Build grid-based patterns using nested loops\n",
    "\n",
    "- Start with simple problems and gradually increase complexity\n",
    "\n",
    "- Document your code with comments explaining each step\n",
    "\n",
    "Remember to test your code with different inputs to ensure it works correctly in all cases."
   ]
  },
  {
   "cell_type": "code",
   "execution_count": null,
   "metadata": {},
   "outputs": [],
   "source": []
  }
 ],
 "metadata": {
  "kernelspec": {
   "display_name": "Python (myenv)",
   "language": "python",
   "name": "myenv"
  },
  "language_info": {
   "codemirror_mode": {
    "name": "ipython",
    "version": 3
   },
   "file_extension": ".py",
   "mimetype": "text/x-python",
   "name": "python",
   "nbconvert_exporter": "python",
   "pygments_lexer": "ipython3",
   "version": "3.9.12"
  }
 },
 "nbformat": 4,
 "nbformat_minor": 2
}
