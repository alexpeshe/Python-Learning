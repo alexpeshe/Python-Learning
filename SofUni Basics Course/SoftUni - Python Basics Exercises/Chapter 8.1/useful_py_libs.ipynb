{
 "cells": [
  {
   "cell_type": "markdown",
   "metadata": {},
   "source": [
    "# Useful Libraries\n"
   ]
  },
  {
   "cell_type": "markdown",
   "metadata": {},
   "source": [
    "# Math Lib"
   ]
  },
  {
   "cell_type": "code",
   "execution_count": 1,
   "metadata": {},
   "outputs": [
    {
     "ename": "SyntaxError",
     "evalue": "invalid syntax (3347385382.py, line 3)",
     "output_type": "error",
     "traceback": [
      "\u001b[0;36m  Cell \u001b[0;32mIn[1], line 3\u001b[0;36m\u001b[0m\n\u001b[0;31m    math.sqrt(x) - Returns square root of x\u001b[0m\n\u001b[0m                           ^\u001b[0m\n\u001b[0;31mSyntaxError\u001b[0m\u001b[0;31m:\u001b[0m invalid syntax\n"
     ]
    }
   ],
   "source": [
    "# Basic Mathematical Functions\n",
    "\n",
    "math.sqrt(x) - Returns square root of x\n",
    "\n",
    "math.pow(x,y) - Returns x raised to power y\n",
    "\n",
    "math.floor(x) - Rounds down to nearest integer\n",
    "\n",
    "math.ceil(x) - Rounds up to nearest integer\n",
    "\n",
    "math.fabs(x) - Returns absolute value as float1"
   ]
  },
  {
   "cell_type": "code",
   "execution_count": null,
   "metadata": {},
   "outputs": [],
   "source": [
    "# Trigonometric Functions\n",
    "\n",
    "math.sin(x) - Returns sine of x (in radians)\n",
    "\n",
    "math.cos(x) - Returns cosine of x\n",
    "\n",
    "math.tan(x) - Returns tangent of x\n",
    "\n",
    "math.degrees(x) - Converts radians to degrees\n",
    "\n",
    "math.radians(x) - Converts degrees to radians4"
   ]
  },
  {
   "cell_type": "code",
   "execution_count": null,
   "metadata": {},
   "outputs": [],
   "source": [
    "# Number Theory Functions\n",
    "\n",
    "math.factorial(n) - Returns factorial of n\n",
    "\n",
    "math.gcd(a,b) - Returns greatest common divisor\n",
    "\n",
    "math.prod(iterable) - Returns product of all elements4\n",
    "\n",
    "# Logarithmic Functions\n",
    "\n",
    "math.log(x) - Returns natural logarithm\n",
    "\n",
    "math.log10(x) - Returns base-10 logarithm\n",
    "\n",
    "math.log2(x) - Returns base-2 logarithm2\n",
    "\n",
    "# Constants\n",
    "\n",
    "math.pi - Returns π (3.141592...)\n",
    "\n",
    "math.e - Returns Euler's number (2.718281..."
   ]
  },
  {
   "cell_type": "markdown",
   "metadata": {},
   "source": [
    "- These functions are particularly useful for:\n",
    "\n",
    "Scientific calculations\n",
    "\n",
    "Engineering applications\n",
    "\n",
    "Data analysis\n",
    "\n",
    "Graphics and game development\n",
    "\n",
    "Financial calculations2"
   ]
  },
  {
   "cell_type": "markdown",
   "metadata": {},
   "source": [
    "# Numpy Lib"
   ]
  },
  {
   "cell_type": "code",
   "execution_count": null,
   "metadata": {},
   "outputs": [],
   "source": [
    "# Array Creation Functions\n",
    "\n",
    "np.array() - Creates array from lists\n",
    "\n",
    "np.zeros() - Creates array filled with zeros\n",
    "\n",
    "np.ones() - Creates array filled with ones\n",
    "\n",
    "np.arange() - Creates array with sequential numbers\n",
    "\n",
    "np.linspace() - Creates evenly spaced numbers2"
   ]
  },
  {
   "cell_type": "code",
   "execution_count": null,
   "metadata": {},
   "outputs": [],
   "source": [
    "# Array Manipulation\n",
    "\n",
    "np.reshape() - Changes array shape\n",
    "\n",
    "np.transpose() - Flips rows and columns\n",
    "\n",
    "np.concatenate() - Joins arrays together\n",
    "\n",
    "np.stack() - Stacks arrays along new axis5"
   ]
  },
  {
   "cell_type": "code",
   "execution_count": null,
   "metadata": {},
   "outputs": [],
   "source": [
    "# Mathematical Operations\n",
    "\n",
    "np.add() - Adds arrays element-wise\n",
    "\n",
    "np.subtract() - Subtracts arrays element-wise\n",
    "\n",
    "np.multiply() - Multiplies arrays element-wise\n",
    "\n",
    "np.sqrt() - Calculates square root\n",
    "\n",
    "np.exp() - Calculates exponential3\n",
    "\n"
   ]
  },
  {
   "cell_type": "code",
   "execution_count": null,
   "metadata": {},
   "outputs": [],
   "source": [
    "# Statistical Functions\n",
    "\n",
    "np.mean() - Calculates average\n",
    "\n",
    "np.median() - Finds middle value\n",
    "\n",
    "np.std() - Calculates standard deviation\n",
    "\n",
    "np.min(), np.max() - Finds minimum/maximum values\n",
    "\n",
    "np.argmax(), np.argmin() - Finds indices of max/min values\n",
    "\n",
    "\"\"\"\n",
    "These functions are particularly useful for:\n",
    "\n",
    "Data analysis and manipulation\n",
    "\n",
    "Scientific computing\n",
    "\n",
    "Machine learning applications\n",
    "\n",
    "Statistical calculations\n",
    "\n",
    "Matrix operations5\n",
    "\"\"\""
   ]
  },
  {
   "cell_type": "markdown",
   "metadata": {},
   "source": [
    "# Pandas"
   ]
  },
  {
   "cell_type": "code",
   "execution_count": null,
   "metadata": {},
   "outputs": [],
   "source": [
    "# Data Viewing and Information\n",
    "\n",
    "df.head() - Shows first 5 rows of DataFrame1\n",
    "\n",
    "df.tail() - Shows last 5 rows of DataFrame1\n",
    "\n",
    "df.info() - Displays information about DataFrame structure1\n",
    "\n",
    "df.describe() - Provides basic statistical summary1\n",
    "\n",
    "df.shape - Shows dimensions (rows, columns)"
   ]
  },
  {
   "cell_type": "code",
   "execution_count": null,
   "metadata": {},
   "outputs": [],
   "source": [
    "# Data Selection and Filtering\n",
    "\n",
    "df.iloc[] - Selects data by position5\n",
    "\n",
    "df.loc[] - Selects data by labels5\n",
    "\n",
    "df.query() - Filters data using boolean expressions5\n",
    "\n",
    "df[['col1', 'col2']] - Selects multiple columns1\n",
    "\n"
   ]
  },
  {
   "cell_type": "code",
   "execution_count": null,
   "metadata": {},
   "outputs": [],
   "source": [
    "# Data Operations\n",
    "\n",
    "- Data Analysis\n",
    "\n",
    "df.groupby() - Groups data for aggregation1\n",
    "\n",
    "df.sort_values() - Sorts data by specified columns1\n",
    "\n",
    "pd.pivot_table() - Creates pivot tables for data analysis1\n",
    "\n",
    "df.corr() - Calculates correlation between columns1\n",
    "\n",
    "- Data Manipulation\n",
    "\n",
    "pd.concat() - Combines DataFrames1\n",
    "\n",
    "pd.merge() - Merges DataFrames based on common columns1\n",
    "\n",
    "df.fillna() - Handles missing values2\n",
    "\n",
    "df.dropna() - Removes rows with missing values2\n",
    "\n",
    "- Data Creation\n",
    "\n",
    "pd.DataFrame() - Creates new DataFrame3\n",
    "\n",
    "pd.read_csv() - Reads CSV files5\n",
    "\n",
    "pd.read_excel() - Reads Excel files5"
   ]
  }
 ],
 "metadata": {
  "kernelspec": {
   "display_name": "Python (myenv)",
   "language": "python",
   "name": "myenv"
  },
  "language_info": {
   "codemirror_mode": {
    "name": "ipython",
    "version": 3
   },
   "file_extension": ".py",
   "mimetype": "text/x-python",
   "name": "python",
   "nbconvert_exporter": "python",
   "pygments_lexer": "ipython3",
   "version": "3.9.12"
  }
 },
 "nbformat": 4,
 "nbformat_minor": 2
}
